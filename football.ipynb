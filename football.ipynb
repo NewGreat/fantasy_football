{
 "cells": [
  {
   "cell_type": "code",
   "execution_count": 2,
   "metadata": {
    "collapsed": true,
    "slideshow": {
     "slide_type": "skip"
    }
   },
   "outputs": [],
   "source": [
    "import warnings\n",
    "warnings.filterwarnings('ignore')\n"
   ]
  },
  {
   "cell_type": "markdown",
   "metadata": {
    "slideshow": {
     "slide_type": "slide"
    }
   },
   "source": [
    "# 0. Data Science 101\n",
    "\n",
    "\n",
    "\n",
    "An journey through data wrangling, visualization and modeling with some real world data.\n"
   ]
  },
  {
   "cell_type": "markdown",
   "metadata": {
    "slideshow": {
     "slide_type": "slide"
    }
   },
   "source": [
    "## All too common question: Where do I start?\n",
    "\n",
    "\n",
    "##Should I get a graduate degree in Statistics or Machine Learning?"
   ]
  },
  {
   "cell_type": "markdown",
   "metadata": {
    "slideshow": {
     "slide_type": "slide"
    }
   },
   "source": [
    "#NO\n",
    "\n",
    "\n",
    "## The world's data science problems will never be solved by this approach"
   ]
  },
  {
   "cell_type": "markdown",
   "metadata": {
    "slideshow": {
     "slide_type": "slide"
    }
   },
   "source": [
    "##You are what you repeatedly do/practice.\n",
    "\n",
    "##Mindset is more important than any particular technique"
   ]
  },
  {
   "cell_type": "markdown",
   "metadata": {
    "slideshow": {
     "slide_type": "slide"
    }
   },
   "source": [
    "\n",
    "## Most important tools: \n",
    "\n",
    "##Curiosity, Patience, Common Sense, Healthy Skepticism\n"
   ]
  },
  {
   "cell_type": "markdown",
   "metadata": {
    "slideshow": {
     "slide_type": "slide"
    }
   },
   "source": [
    "## Let's go on a first pass through a dataset, with a focus on exploration.\n"
   ]
  },
  {
   "cell_type": "code",
   "execution_count": 3,
   "metadata": {
    "collapsed": false
   },
   "outputs": [
    {
     "name": "stdout",
     "output_type": "stream",
     "text": [
      "Populating the interactive namespace from numpy and matplotlib\n"
     ]
    }
   ],
   "source": [
    "%pylab inline\n",
    "import pandas as pd\n",
    "import seaborn as sns"
   ]
  },
  {
   "cell_type": "markdown",
   "metadata": {
    "slideshow": {
     "slide_type": "slide"
    }
   },
   "source": [
    "#1. Meet the data\n",
    "- 2015 NFL Regular Season Fanduel data\n",
    "- Dataset contains a row for each player in the league, for each week\n",
    "- Several Categorical variables (full_name, team, week, home_team, away_team)\n",
    "- Several Numeric lag variables (mean_passing_att across all prior weeks, prev_passing_att for one prior week)"
   ]
  },
  {
   "cell_type": "code",
   "execution_count": 4,
   "metadata": {
    "collapsed": false,
    "slideshow": {
     "slide_type": "skip"
    }
   },
   "outputs": [],
   "source": [
    "raw_df = pd.read_csv(\"/home/brianb/Downloads/odsc_football_modeling_data_2.csv\")\n",
    "df_no_week_1 = raw_df[raw_df.week > 1]"
   ]
  },
  {
   "cell_type": "markdown",
   "metadata": {
    "collapsed": false
   },
   "source": [
    "#What columns do we have?\n"
   ]
  },
  {
   "cell_type": "code",
   "execution_count": 5,
   "metadata": {
    "collapsed": false
   },
   "outputs": [
    {
     "data": {
      "text/plain": [
       "array(['away_team', 'fanduel_points', 'full_name', 'home_team',\n",
       "       'mean_fanduel_points', 'mean_fumbles_lost', 'mean_fumbles_tot',\n",
       "       'mean_passing_att', 'mean_passing_cmp', 'mean_passing_cmp_air_yds',\n",
       "       'mean_passing_incmp', 'mean_passing_incmp_air_yds',\n",
       "       'mean_passing_int', 'mean_passing_sk', 'mean_passing_sk_yds',\n",
       "       'mean_passing_tds', 'mean_passing_yds', 'mean_receiving_rec',\n",
       "       'mean_receiving_tar', 'mean_receiving_tds',\n",
       "       'mean_receiving_yac_yds', 'mean_receiving_yds', 'mean_rushing_att',\n",
       "       'mean_rushing_loss', 'mean_rushing_loss_yds', 'mean_rushing_tds',\n",
       "       'mean_rushing_yds', 'opponent', 'player_id', 'position',\n",
       "       'prev_fanduel_points', 'prev_fumbles_lost', 'prev_fumbles_tot',\n",
       "       'prev_passing_att', 'prev_passing_cmp', 'prev_passing_cmp_air_yds',\n",
       "       'prev_passing_incmp', 'prev_passing_incmp_air_yds',\n",
       "       'prev_passing_int', 'prev_passing_sk', 'prev_passing_sk_yds',\n",
       "       'prev_passing_tds', 'prev_passing_yds', 'prev_receiving_rec',\n",
       "       'prev_receiving_tar', 'prev_receiving_tds',\n",
       "       'prev_receiving_yac_yds', 'prev_receiving_yds', 'prev_rushing_att',\n",
       "       'prev_rushing_loss', 'prev_rushing_loss_yds', 'prev_rushing_tds',\n",
       "       'prev_rushing_yds', 'team', 'week'], dtype=object)"
      ]
     },
     "execution_count": 5,
     "metadata": {},
     "output_type": "execute_result"
    }
   ],
   "source": [
    "ff_cols = raw_df.columns\n",
    "sort(ff_cols.values)"
   ]
  },
  {
   "cell_type": "markdown",
   "metadata": {
    "slideshow": {
     "slide_type": "slide"
    }
   },
   "source": [
    "#A quick look at our data"
   ]
  },
  {
   "cell_type": "code",
   "execution_count": 6,
   "metadata": {
    "collapsed": false,
    "slideshow": {
     "slide_type": "subslide"
    }
   },
   "outputs": [
    {
     "data": {
      "text/html": [
       "<div style=\"max-height:1000px;max-width:1500px;overflow:auto;\">\n",
       "<table border=\"1\" class=\"dataframe\">\n",
       "  <thead>\n",
       "    <tr style=\"text-align: right;\">\n",
       "      <th></th>\n",
       "      <th>player_id</th>\n",
       "      <th>full_name</th>\n",
       "      <th>position</th>\n",
       "      <th>team</th>\n",
       "      <th>week</th>\n",
       "      <th>fanduel_points</th>\n",
       "      <th>opponent</th>\n",
       "      <th>home_team</th>\n",
       "      <th>away_team</th>\n",
       "      <th>prev_fanduel_points</th>\n",
       "      <th>...</th>\n",
       "      <th>prev_rushing_att</th>\n",
       "      <th>mean_rushing_att</th>\n",
       "      <th>prev_rushing_loss</th>\n",
       "      <th>mean_rushing_loss</th>\n",
       "      <th>prev_rushing_loss_yds</th>\n",
       "      <th>mean_rushing_loss_yds</th>\n",
       "      <th>prev_rushing_tds</th>\n",
       "      <th>mean_rushing_tds</th>\n",
       "      <th>prev_rushing_yds</th>\n",
       "      <th>mean_rushing_yds</th>\n",
       "    </tr>\n",
       "  </thead>\n",
       "  <tbody>\n",
       "    <tr>\n",
       "      <th>0</th>\n",
       "      <td>00-0019596</td>\n",
       "      <td>Tom Brady</td>\n",
       "      <td>QB</td>\n",
       "      <td>NE</td>\n",
       "      <td>1</td>\n",
       "      <td>27.62</td>\n",
       "      <td>PIT</td>\n",
       "      <td>NE</td>\n",
       "      <td>PIT</td>\n",
       "      <td>NaN</td>\n",
       "      <td>...</td>\n",
       "      <td>NaN</td>\n",
       "      <td>NaN</td>\n",
       "      <td>NaN</td>\n",
       "      <td>NaN</td>\n",
       "      <td>NaN</td>\n",
       "      <td>NaN</td>\n",
       "      <td>NaN</td>\n",
       "      <td>NaN</td>\n",
       "      <td>NaN</td>\n",
       "      <td>NaN</td>\n",
       "    </tr>\n",
       "    <tr>\n",
       "      <th>1</th>\n",
       "      <td>00-0020712</td>\n",
       "      <td>James Harrison</td>\n",
       "      <td>OLB</td>\n",
       "      <td>PIT</td>\n",
       "      <td>1</td>\n",
       "      <td>0.00</td>\n",
       "      <td>NE</td>\n",
       "      <td>NE</td>\n",
       "      <td>PIT</td>\n",
       "      <td>NaN</td>\n",
       "      <td>...</td>\n",
       "      <td>NaN</td>\n",
       "      <td>NaN</td>\n",
       "      <td>NaN</td>\n",
       "      <td>NaN</td>\n",
       "      <td>NaN</td>\n",
       "      <td>NaN</td>\n",
       "      <td>NaN</td>\n",
       "      <td>NaN</td>\n",
       "      <td>NaN</td>\n",
       "      <td>NaN</td>\n",
       "    </tr>\n",
       "    <tr>\n",
       "      <th>2</th>\n",
       "      <td>00-0022874</td>\n",
       "      <td>Josh Scobee</td>\n",
       "      <td>K</td>\n",
       "      <td>NO</td>\n",
       "      <td>1</td>\n",
       "      <td>8.00</td>\n",
       "      <td>PIT</td>\n",
       "      <td>NE</td>\n",
       "      <td>PIT</td>\n",
       "      <td>NaN</td>\n",
       "      <td>...</td>\n",
       "      <td>NaN</td>\n",
       "      <td>NaN</td>\n",
       "      <td>NaN</td>\n",
       "      <td>NaN</td>\n",
       "      <td>NaN</td>\n",
       "      <td>NaN</td>\n",
       "      <td>NaN</td>\n",
       "      <td>NaN</td>\n",
       "      <td>NaN</td>\n",
       "      <td>NaN</td>\n",
       "    </tr>\n",
       "    <tr>\n",
       "      <th>3</th>\n",
       "      <td>00-0022900</td>\n",
       "      <td>Will Allen</td>\n",
       "      <td>UNK</td>\n",
       "      <td>UNK</td>\n",
       "      <td>1</td>\n",
       "      <td>0.00</td>\n",
       "      <td>PIT</td>\n",
       "      <td>NE</td>\n",
       "      <td>PIT</td>\n",
       "      <td>NaN</td>\n",
       "      <td>...</td>\n",
       "      <td>NaN</td>\n",
       "      <td>NaN</td>\n",
       "      <td>NaN</td>\n",
       "      <td>NaN</td>\n",
       "      <td>NaN</td>\n",
       "      <td>NaN</td>\n",
       "      <td>NaN</td>\n",
       "      <td>NaN</td>\n",
       "      <td>NaN</td>\n",
       "      <td>NaN</td>\n",
       "    </tr>\n",
       "    <tr>\n",
       "      <th>4</th>\n",
       "      <td>00-0022924</td>\n",
       "      <td>Ben Roethlisberger</td>\n",
       "      <td>QB</td>\n",
       "      <td>PIT</td>\n",
       "      <td>1</td>\n",
       "      <td>17.04</td>\n",
       "      <td>NE</td>\n",
       "      <td>NE</td>\n",
       "      <td>PIT</td>\n",
       "      <td>NaN</td>\n",
       "      <td>...</td>\n",
       "      <td>NaN</td>\n",
       "      <td>NaN</td>\n",
       "      <td>NaN</td>\n",
       "      <td>NaN</td>\n",
       "      <td>NaN</td>\n",
       "      <td>NaN</td>\n",
       "      <td>NaN</td>\n",
       "      <td>NaN</td>\n",
       "      <td>NaN</td>\n",
       "      <td>NaN</td>\n",
       "    </tr>\n",
       "  </tbody>\n",
       "</table>\n",
       "<p>5 rows × 55 columns</p>\n",
       "</div>"
      ],
      "text/plain": [
       "    player_id           full_name position team  week  fanduel_points  \\\n",
       "0  00-0019596           Tom Brady       QB   NE     1           27.62   \n",
       "1  00-0020712      James Harrison      OLB  PIT     1            0.00   \n",
       "2  00-0022874         Josh Scobee        K   NO     1            8.00   \n",
       "3  00-0022900          Will Allen      UNK  UNK     1            0.00   \n",
       "4  00-0022924  Ben Roethlisberger       QB  PIT     1           17.04   \n",
       "\n",
       "  opponent home_team away_team  prev_fanduel_points        ...         \\\n",
       "0      PIT        NE       PIT                  NaN        ...          \n",
       "1       NE        NE       PIT                  NaN        ...          \n",
       "2      PIT        NE       PIT                  NaN        ...          \n",
       "3      PIT        NE       PIT                  NaN        ...          \n",
       "4       NE        NE       PIT                  NaN        ...          \n",
       "\n",
       "   prev_rushing_att  mean_rushing_att  prev_rushing_loss  mean_rushing_loss  \\\n",
       "0               NaN               NaN                NaN                NaN   \n",
       "1               NaN               NaN                NaN                NaN   \n",
       "2               NaN               NaN                NaN                NaN   \n",
       "3               NaN               NaN                NaN                NaN   \n",
       "4               NaN               NaN                NaN                NaN   \n",
       "\n",
       "   prev_rushing_loss_yds  mean_rushing_loss_yds  prev_rushing_tds  \\\n",
       "0                    NaN                    NaN               NaN   \n",
       "1                    NaN                    NaN               NaN   \n",
       "2                    NaN                    NaN               NaN   \n",
       "3                    NaN                    NaN               NaN   \n",
       "4                    NaN                    NaN               NaN   \n",
       "\n",
       "   mean_rushing_tds  prev_rushing_yds  mean_rushing_yds  \n",
       "0               NaN               NaN               NaN  \n",
       "1               NaN               NaN               NaN  \n",
       "2               NaN               NaN               NaN  \n",
       "3               NaN               NaN               NaN  \n",
       "4               NaN               NaN               NaN  \n",
       "\n",
       "[5 rows x 55 columns]"
      ]
     },
     "execution_count": 6,
     "metadata": {},
     "output_type": "execute_result"
    }
   ],
   "source": [
    "raw_df[ff_cols].head()"
   ]
  },
  {
   "cell_type": "code",
   "execution_count": 7,
   "metadata": {
    "collapsed": false,
    "slideshow": {
     "slide_type": "slide"
    }
   },
   "outputs": [
    {
     "data": {
      "text/html": [
       "<div style=\"max-height:1000px;max-width:1500px;overflow:auto;\">\n",
       "<table border=\"1\" class=\"dataframe\">\n",
       "  <thead>\n",
       "    <tr style=\"text-align: right;\">\n",
       "      <th></th>\n",
       "      <th>player_id</th>\n",
       "      <th>full_name</th>\n",
       "      <th>position</th>\n",
       "      <th>team</th>\n",
       "      <th>week</th>\n",
       "      <th>fanduel_points</th>\n",
       "      <th>opponent</th>\n",
       "      <th>home_team</th>\n",
       "      <th>away_team</th>\n",
       "      <th>prev_fanduel_points</th>\n",
       "      <th>...</th>\n",
       "      <th>prev_rushing_att</th>\n",
       "      <th>mean_rushing_att</th>\n",
       "      <th>prev_rushing_loss</th>\n",
       "      <th>mean_rushing_loss</th>\n",
       "      <th>prev_rushing_loss_yds</th>\n",
       "      <th>mean_rushing_loss_yds</th>\n",
       "      <th>prev_rushing_tds</th>\n",
       "      <th>mean_rushing_tds</th>\n",
       "      <th>prev_rushing_yds</th>\n",
       "      <th>mean_rushing_yds</th>\n",
       "    </tr>\n",
       "  </thead>\n",
       "  <tbody>\n",
       "    <tr>\n",
       "      <th>1021</th>\n",
       "      <td>00-0010346</td>\n",
       "      <td>Peyton Manning</td>\n",
       "      <td>UNK</td>\n",
       "      <td>UNK</td>\n",
       "      <td>2</td>\n",
       "      <td>21.24</td>\n",
       "      <td>DEN</td>\n",
       "      <td>KC</td>\n",
       "      <td>DEN</td>\n",
       "      <td>5.90</td>\n",
       "      <td>...</td>\n",
       "      <td>1</td>\n",
       "      <td>1</td>\n",
       "      <td>0</td>\n",
       "      <td>0</td>\n",
       "      <td>0</td>\n",
       "      <td>0</td>\n",
       "      <td>0</td>\n",
       "      <td>0</td>\n",
       "      <td>-1</td>\n",
       "      <td>-1</td>\n",
       "    </tr>\n",
       "    <tr>\n",
       "      <th>1022</th>\n",
       "      <td>00-0022793</td>\n",
       "      <td>Antonio Smith</td>\n",
       "      <td>UNK</td>\n",
       "      <td>UNK</td>\n",
       "      <td>2</td>\n",
       "      <td>0.00</td>\n",
       "      <td>DEN</td>\n",
       "      <td>KC</td>\n",
       "      <td>DEN</td>\n",
       "      <td>0.00</td>\n",
       "      <td>...</td>\n",
       "      <td>0</td>\n",
       "      <td>0</td>\n",
       "      <td>0</td>\n",
       "      <td>0</td>\n",
       "      <td>0</td>\n",
       "      <td>0</td>\n",
       "      <td>0</td>\n",
       "      <td>0</td>\n",
       "      <td>0</td>\n",
       "      <td>0</td>\n",
       "    </tr>\n",
       "    <tr>\n",
       "      <th>1023</th>\n",
       "      <td>00-0023436</td>\n",
       "      <td>Alex Smith</td>\n",
       "      <td>QB</td>\n",
       "      <td>KC</td>\n",
       "      <td>2</td>\n",
       "      <td>7.14</td>\n",
       "      <td>DEN</td>\n",
       "      <td>KC</td>\n",
       "      <td>DEN</td>\n",
       "      <td>23.22</td>\n",
       "      <td>...</td>\n",
       "      <td>9</td>\n",
       "      <td>9</td>\n",
       "      <td>0</td>\n",
       "      <td>0</td>\n",
       "      <td>0</td>\n",
       "      <td>0</td>\n",
       "      <td>0</td>\n",
       "      <td>0</td>\n",
       "      <td>15</td>\n",
       "      <td>15</td>\n",
       "    </tr>\n",
       "    <tr>\n",
       "      <th>1024</th>\n",
       "      <td>00-0023445</td>\n",
       "      <td>DeMarcus Ware</td>\n",
       "      <td>OLB</td>\n",
       "      <td>DEN</td>\n",
       "      <td>2</td>\n",
       "      <td>0.00</td>\n",
       "      <td>KC</td>\n",
       "      <td>KC</td>\n",
       "      <td>DEN</td>\n",
       "      <td>0.00</td>\n",
       "      <td>...</td>\n",
       "      <td>0</td>\n",
       "      <td>0</td>\n",
       "      <td>0</td>\n",
       "      <td>0</td>\n",
       "      <td>0</td>\n",
       "      <td>0</td>\n",
       "      <td>0</td>\n",
       "      <td>0</td>\n",
       "      <td>0</td>\n",
       "      <td>0</td>\n",
       "    </tr>\n",
       "    <tr>\n",
       "      <th>1025</th>\n",
       "      <td>00-0023449</td>\n",
       "      <td>Derrick Johnson</td>\n",
       "      <td>ILB</td>\n",
       "      <td>KC</td>\n",
       "      <td>2</td>\n",
       "      <td>0.00</td>\n",
       "      <td>DEN</td>\n",
       "      <td>KC</td>\n",
       "      <td>DEN</td>\n",
       "      <td>0.00</td>\n",
       "      <td>...</td>\n",
       "      <td>0</td>\n",
       "      <td>0</td>\n",
       "      <td>0</td>\n",
       "      <td>0</td>\n",
       "      <td>0</td>\n",
       "      <td>0</td>\n",
       "      <td>0</td>\n",
       "      <td>0</td>\n",
       "      <td>0</td>\n",
       "      <td>0</td>\n",
       "    </tr>\n",
       "  </tbody>\n",
       "</table>\n",
       "<p>5 rows × 55 columns</p>\n",
       "</div>"
      ],
      "text/plain": [
       "       player_id        full_name position team  week  fanduel_points  \\\n",
       "1021  00-0010346   Peyton Manning      UNK  UNK     2           21.24   \n",
       "1022  00-0022793    Antonio Smith      UNK  UNK     2            0.00   \n",
       "1023  00-0023436       Alex Smith       QB   KC     2            7.14   \n",
       "1024  00-0023445    DeMarcus Ware      OLB  DEN     2            0.00   \n",
       "1025  00-0023449  Derrick Johnson      ILB   KC     2            0.00   \n",
       "\n",
       "     opponent home_team away_team  prev_fanduel_points        ...         \\\n",
       "1021      DEN        KC       DEN                 5.90        ...          \n",
       "1022      DEN        KC       DEN                 0.00        ...          \n",
       "1023      DEN        KC       DEN                23.22        ...          \n",
       "1024       KC        KC       DEN                 0.00        ...          \n",
       "1025      DEN        KC       DEN                 0.00        ...          \n",
       "\n",
       "      prev_rushing_att  mean_rushing_att  prev_rushing_loss  \\\n",
       "1021                 1                 1                  0   \n",
       "1022                 0                 0                  0   \n",
       "1023                 9                 9                  0   \n",
       "1024                 0                 0                  0   \n",
       "1025                 0                 0                  0   \n",
       "\n",
       "      mean_rushing_loss  prev_rushing_loss_yds  mean_rushing_loss_yds  \\\n",
       "1021                  0                      0                      0   \n",
       "1022                  0                      0                      0   \n",
       "1023                  0                      0                      0   \n",
       "1024                  0                      0                      0   \n",
       "1025                  0                      0                      0   \n",
       "\n",
       "      prev_rushing_tds  mean_rushing_tds  prev_rushing_yds  mean_rushing_yds  \n",
       "1021                 0                 0                -1                -1  \n",
       "1022                 0                 0                 0                 0  \n",
       "1023                 0                 0                15                15  \n",
       "1024                 0                 0                 0                 0  \n",
       "1025                 0                 0                 0                 0  \n",
       "\n",
       "[5 rows x 55 columns]"
      ]
     },
     "execution_count": 7,
     "metadata": {},
     "output_type": "execute_result"
    }
   ],
   "source": [
    "df_no_week_1[ff_cols].head()"
   ]
  },
  {
   "cell_type": "markdown",
   "metadata": {
    "slideshow": {
     "slide_type": "slide"
    }
   },
   "source": [
    "###Where do we begin? \n",
    "\n",
    "###We know some Python. Let's use that.\n",
    "\n",
    "###First thing to figure out is how to get the data files on your machine into Python in the first place.\n",
    "\n",
    "\n",
    "\n",
    "###We can use Pandas.\n",
    "\n",
    "\n",
    "#Pandas\n",
    "\n",
    "Pandas is a Python library you may have heard of that is great for exploring data in real time. Let's look at what we already did with Pandas and what else we can do!\n"
   ]
  },
  {
   "cell_type": "markdown",
   "metadata": {
    "slideshow": {
     "slide_type": "slide"
    }
   },
   "source": [
    "#Reading data from disk"
   ]
  },
  {
   "cell_type": "code",
   "execution_count": 9,
   "metadata": {
    "collapsed": false,
    "slideshow": {
     "slide_type": "slide"
    }
   },
   "outputs": [],
   "source": [
    "raw_df = pd.read_csv(\"/home/brianb/Downloads/odsc_football_modeling_data_2.csv\")"
   ]
  },
  {
   "cell_type": "markdown",
   "metadata": {
    "slideshow": {
     "slide_type": "slide"
    }
   },
   "source": [
    "###What did that just do? \n",
    "\n",
    "\n",
    "\n",
    "We called \"read_csv\", which presumably reads CSV files... and does what with them? "
   ]
  },
  {
   "cell_type": "markdown",
   "metadata": {
    "slideshow": {
     "slide_type": "slide"
    }
   },
   "source": [
    "##pd.read_csv does a magical thing \n",
    "\n",
    "\n",
    "It reads a CSV file into a DataFrame. \n",
    "\n",
    "DataFrames are mystical creatures in Data Science. \n",
    "\n",
    "Popularized by R, they provide a standardized matrix-style format for interacting with your data. Most data can fit into this row and column format: financial transactions, iPhone app user records, medical histories, etc."
   ]
  },
  {
   "cell_type": "markdown",
   "metadata": {
    "slideshow": {
     "slide_type": "slide"
    }
   },
   "source": [
    "##Since you were wondering\n",
    "\n",
    "##Pandas has support for many formats\n",
    "\n",
    "CSV, Text (tab separated, pipe separated, etc.), Excel, JSON, HTML, SQL, Stuff copied to your clipboard, HDFS..."
   ]
  },
  {
   "cell_type": "markdown",
   "metadata": {
    "slideshow": {
     "slide_type": "slide"
    }
   },
   "source": [
    "## Hold up. What's really going on with these DataFrames?"
   ]
  },
  {
   "cell_type": "markdown",
   "metadata": {
    "slideshow": {
     "slide_type": "slide"
    }
   },
   "source": [
    "## Two data structures: Series and DataFrame\n",
    "\n",
    "###Series\n",
    "Think of this as one column of your data - one data type.\n",
    "\n",
    "### DataFrame\n",
    "All of the columns in your data. Mixed data types. \n"
   ]
  },
  {
   "cell_type": "markdown",
   "metadata": {
    "slideshow": {
     "slide_type": "slide"
    }
   },
   "source": [
    "#Many Series can be combined and represented as a DataFrame object.\n",
    "\n",
    "#A DataFrame can be represented as many Series objects. "
   ]
  },
  {
   "cell_type": "markdown",
   "metadata": {
    "slideshow": {
     "slide_type": "slide"
    }
   },
   "source": [
    "#Pandas provides tons of functions to:\n",
    "\n",
    "###slice, dice, merge, join, group by, select, append, find, transform, sort, reverse, pivot and anything else you want to do\n"
   ]
  },
  {
   "cell_type": "markdown",
   "metadata": {
    "slideshow": {
     "slide_type": "slide"
    }
   },
   "source": [
    "#... for both Series and DataFrames. \n",
    "\n",
    "Most functions are designed to work with either type or even combinations of the two, just like you would intuitively expect:\n",
    "\n",
    "i.e. A concat function can contatenate arbitrary combinations of 0 to n Series and DataFrames."
   ]
  },
  {
   "cell_type": "markdown",
   "metadata": {
    "slideshow": {
     "slide_type": "slide"
    }
   },
   "source": [
    "#Accessing data in a DataFrame"
   ]
  },
  {
   "cell_type": "markdown",
   "metadata": {
    "slideshow": {
     "slide_type": "slide"
    }
   },
   "source": [
    "###Get one column (Series)"
   ]
  },
  {
   "cell_type": "code",
   "execution_count": 10,
   "metadata": {
    "collapsed": false
   },
   "outputs": [
    {
     "data": {
      "text/plain": [
       "0             Tom Brady\n",
       "1        James Harrison\n",
       "2           Josh Scobee\n",
       "3            Will Allen\n",
       "4    Ben Roethlisberger\n",
       "Name: full_name, dtype: object"
      ]
     },
     "execution_count": 10,
     "metadata": {},
     "output_type": "execute_result"
    }
   ],
   "source": [
    "raw_df['full_name'].head()"
   ]
  },
  {
   "cell_type": "markdown",
   "metadata": {
    "slideshow": {
     "slide_type": "slide"
    }
   },
   "source": [
    "###Get subset of columns (DataFrame)"
   ]
  },
  {
   "cell_type": "code",
   "execution_count": 11,
   "metadata": {
    "collapsed": false
   },
   "outputs": [
    {
     "data": {
      "text/html": [
       "<div style=\"max-height:1000px;max-width:1500px;overflow:auto;\">\n",
       "<table border=\"1\" class=\"dataframe\">\n",
       "  <thead>\n",
       "    <tr style=\"text-align: right;\">\n",
       "      <th></th>\n",
       "      <th>full_name</th>\n",
       "      <th>position</th>\n",
       "      <th>team</th>\n",
       "    </tr>\n",
       "  </thead>\n",
       "  <tbody>\n",
       "    <tr>\n",
       "      <th>0</th>\n",
       "      <td>Tom Brady</td>\n",
       "      <td>QB</td>\n",
       "      <td>NE</td>\n",
       "    </tr>\n",
       "    <tr>\n",
       "      <th>1</th>\n",
       "      <td>James Harrison</td>\n",
       "      <td>OLB</td>\n",
       "      <td>PIT</td>\n",
       "    </tr>\n",
       "    <tr>\n",
       "      <th>2</th>\n",
       "      <td>Josh Scobee</td>\n",
       "      <td>K</td>\n",
       "      <td>NO</td>\n",
       "    </tr>\n",
       "    <tr>\n",
       "      <th>3</th>\n",
       "      <td>Will Allen</td>\n",
       "      <td>UNK</td>\n",
       "      <td>UNK</td>\n",
       "    </tr>\n",
       "    <tr>\n",
       "      <th>4</th>\n",
       "      <td>Ben Roethlisberger</td>\n",
       "      <td>QB</td>\n",
       "      <td>PIT</td>\n",
       "    </tr>\n",
       "  </tbody>\n",
       "</table>\n",
       "</div>"
      ],
      "text/plain": [
       "            full_name position team\n",
       "0           Tom Brady       QB   NE\n",
       "1      James Harrison      OLB  PIT\n",
       "2         Josh Scobee        K   NO\n",
       "3          Will Allen      UNK  UNK\n",
       "4  Ben Roethlisberger       QB  PIT"
      ]
     },
     "execution_count": 11,
     "metadata": {},
     "output_type": "execute_result"
    }
   ],
   "source": [
    "raw_df[['full_name', 'position', 'team']].head()"
   ]
  },
  {
   "cell_type": "markdown",
   "metadata": {
    "slideshow": {
     "slide_type": "slide"
    }
   },
   "source": [
    "###Get a subset of rows using a boolean array"
   ]
  },
  {
   "cell_type": "code",
   "execution_count": 13,
   "metadata": {
    "collapsed": false
   },
   "outputs": [
    {
     "data": {
      "text/html": [
       "<div style=\"max-height:1000px;max-width:1500px;overflow:auto;\">\n",
       "<table border=\"1\" class=\"dataframe\">\n",
       "  <thead>\n",
       "    <tr style=\"text-align: right;\">\n",
       "      <th></th>\n",
       "      <th>player_id</th>\n",
       "      <th>full_name</th>\n",
       "      <th>position</th>\n",
       "      <th>team</th>\n",
       "      <th>week</th>\n",
       "      <th>fanduel_points</th>\n",
       "      <th>opponent</th>\n",
       "      <th>home_team</th>\n",
       "      <th>away_team</th>\n",
       "      <th>prev_fanduel_points</th>\n",
       "      <th>...</th>\n",
       "      <th>prev_rushing_att</th>\n",
       "      <th>mean_rushing_att</th>\n",
       "      <th>prev_rushing_loss</th>\n",
       "      <th>mean_rushing_loss</th>\n",
       "      <th>prev_rushing_loss_yds</th>\n",
       "      <th>mean_rushing_loss_yds</th>\n",
       "      <th>prev_rushing_tds</th>\n",
       "      <th>mean_rushing_tds</th>\n",
       "      <th>prev_rushing_yds</th>\n",
       "      <th>mean_rushing_yds</th>\n",
       "    </tr>\n",
       "  </thead>\n",
       "  <tbody>\n",
       "    <tr>\n",
       "      <th>1021</th>\n",
       "      <td>00-0010346</td>\n",
       "      <td>Peyton Manning</td>\n",
       "      <td>UNK</td>\n",
       "      <td>UNK</td>\n",
       "      <td>2</td>\n",
       "      <td>21.24</td>\n",
       "      <td>DEN</td>\n",
       "      <td>KC</td>\n",
       "      <td>DEN</td>\n",
       "      <td>5.90</td>\n",
       "      <td>...</td>\n",
       "      <td>1</td>\n",
       "      <td>1</td>\n",
       "      <td>0</td>\n",
       "      <td>0</td>\n",
       "      <td>0</td>\n",
       "      <td>0</td>\n",
       "      <td>0</td>\n",
       "      <td>0</td>\n",
       "      <td>-1</td>\n",
       "      <td>-1</td>\n",
       "    </tr>\n",
       "    <tr>\n",
       "      <th>1022</th>\n",
       "      <td>00-0022793</td>\n",
       "      <td>Antonio Smith</td>\n",
       "      <td>UNK</td>\n",
       "      <td>UNK</td>\n",
       "      <td>2</td>\n",
       "      <td>0.00</td>\n",
       "      <td>DEN</td>\n",
       "      <td>KC</td>\n",
       "      <td>DEN</td>\n",
       "      <td>0.00</td>\n",
       "      <td>...</td>\n",
       "      <td>0</td>\n",
       "      <td>0</td>\n",
       "      <td>0</td>\n",
       "      <td>0</td>\n",
       "      <td>0</td>\n",
       "      <td>0</td>\n",
       "      <td>0</td>\n",
       "      <td>0</td>\n",
       "      <td>0</td>\n",
       "      <td>0</td>\n",
       "    </tr>\n",
       "    <tr>\n",
       "      <th>1023</th>\n",
       "      <td>00-0023436</td>\n",
       "      <td>Alex Smith</td>\n",
       "      <td>QB</td>\n",
       "      <td>KC</td>\n",
       "      <td>2</td>\n",
       "      <td>7.14</td>\n",
       "      <td>DEN</td>\n",
       "      <td>KC</td>\n",
       "      <td>DEN</td>\n",
       "      <td>23.22</td>\n",
       "      <td>...</td>\n",
       "      <td>9</td>\n",
       "      <td>9</td>\n",
       "      <td>0</td>\n",
       "      <td>0</td>\n",
       "      <td>0</td>\n",
       "      <td>0</td>\n",
       "      <td>0</td>\n",
       "      <td>0</td>\n",
       "      <td>15</td>\n",
       "      <td>15</td>\n",
       "    </tr>\n",
       "    <tr>\n",
       "      <th>1024</th>\n",
       "      <td>00-0023445</td>\n",
       "      <td>DeMarcus Ware</td>\n",
       "      <td>OLB</td>\n",
       "      <td>DEN</td>\n",
       "      <td>2</td>\n",
       "      <td>0.00</td>\n",
       "      <td>KC</td>\n",
       "      <td>KC</td>\n",
       "      <td>DEN</td>\n",
       "      <td>0.00</td>\n",
       "      <td>...</td>\n",
       "      <td>0</td>\n",
       "      <td>0</td>\n",
       "      <td>0</td>\n",
       "      <td>0</td>\n",
       "      <td>0</td>\n",
       "      <td>0</td>\n",
       "      <td>0</td>\n",
       "      <td>0</td>\n",
       "      <td>0</td>\n",
       "      <td>0</td>\n",
       "    </tr>\n",
       "    <tr>\n",
       "      <th>1025</th>\n",
       "      <td>00-0023449</td>\n",
       "      <td>Derrick Johnson</td>\n",
       "      <td>ILB</td>\n",
       "      <td>KC</td>\n",
       "      <td>2</td>\n",
       "      <td>0.00</td>\n",
       "      <td>DEN</td>\n",
       "      <td>KC</td>\n",
       "      <td>DEN</td>\n",
       "      <td>0.00</td>\n",
       "      <td>...</td>\n",
       "      <td>0</td>\n",
       "      <td>0</td>\n",
       "      <td>0</td>\n",
       "      <td>0</td>\n",
       "      <td>0</td>\n",
       "      <td>0</td>\n",
       "      <td>0</td>\n",
       "      <td>0</td>\n",
       "      <td>0</td>\n",
       "      <td>0</td>\n",
       "    </tr>\n",
       "  </tbody>\n",
       "</table>\n",
       "<p>5 rows × 55 columns</p>\n",
       "</div>"
      ],
      "text/plain": [
       "       player_id        full_name position team  week  fanduel_points  \\\n",
       "1021  00-0010346   Peyton Manning      UNK  UNK     2           21.24   \n",
       "1022  00-0022793    Antonio Smith      UNK  UNK     2            0.00   \n",
       "1023  00-0023436       Alex Smith       QB   KC     2            7.14   \n",
       "1024  00-0023445    DeMarcus Ware      OLB  DEN     2            0.00   \n",
       "1025  00-0023449  Derrick Johnson      ILB   KC     2            0.00   \n",
       "\n",
       "     opponent home_team away_team  prev_fanduel_points        ...         \\\n",
       "1021      DEN        KC       DEN                 5.90        ...          \n",
       "1022      DEN        KC       DEN                 0.00        ...          \n",
       "1023      DEN        KC       DEN                23.22        ...          \n",
       "1024       KC        KC       DEN                 0.00        ...          \n",
       "1025      DEN        KC       DEN                 0.00        ...          \n",
       "\n",
       "      prev_rushing_att  mean_rushing_att  prev_rushing_loss  \\\n",
       "1021                 1                 1                  0   \n",
       "1022                 0                 0                  0   \n",
       "1023                 9                 9                  0   \n",
       "1024                 0                 0                  0   \n",
       "1025                 0                 0                  0   \n",
       "\n",
       "      mean_rushing_loss  prev_rushing_loss_yds  mean_rushing_loss_yds  \\\n",
       "1021                  0                      0                      0   \n",
       "1022                  0                      0                      0   \n",
       "1023                  0                      0                      0   \n",
       "1024                  0                      0                      0   \n",
       "1025                  0                      0                      0   \n",
       "\n",
       "      prev_rushing_tds  mean_rushing_tds  prev_rushing_yds  mean_rushing_yds  \n",
       "1021                 0                 0                -1                -1  \n",
       "1022                 0                 0                 0                 0  \n",
       "1023                 0                 0                15                15  \n",
       "1024                 0                 0                 0                 0  \n",
       "1025                 0                 0                 0                 0  \n",
       "\n",
       "[5 rows x 55 columns]"
      ]
     },
     "execution_count": 13,
     "metadata": {},
     "output_type": "execute_result"
    }
   ],
   "source": [
    "raw_df[raw_df.week > 1].head()"
   ]
  },
  {
   "cell_type": "markdown",
   "metadata": {
    "slideshow": {
     "slide_type": "slide"
    }
   },
   "source": [
    "#So now we know about DataFrames\n",
    "\n",
    "##...What's next?"
   ]
  },
  {
   "cell_type": "markdown",
   "metadata": {
    "slideshow": {
     "slide_type": "slide"
    }
   },
   "source": [
    "# Exploratory Data Analysis"
   ]
  },
  {
   "cell_type": "markdown",
   "metadata": {
    "slideshow": {
     "slide_type": "slide"
    }
   },
   "source": [
    "Does it look like test data should? \n",
    "\n",
    "Is it completely empty? Full? Lots of missing values and NaNs?\n",
    "\n",
    "What are in the rows? columns?\n",
    "\n",
    "Does it have appropriate features? (characteristics common to records belonging to a dataset)\n",
    "\n",
    "###It's impossible to make good decisions moving forward until we know more"
   ]
  },
  {
   "cell_type": "markdown",
   "metadata": {
    "slideshow": {
     "slide_type": "slide"
    }
   },
   "source": [
    "We can just output the entire dataframe to the console, but that doesn't scale beyond a couple hundred rows."
   ]
  },
  {
   "cell_type": "markdown",
   "metadata": {
    "slideshow": {
     "slide_type": "fragment"
    }
   },
   "source": [
    "<pre>\n",
    "In [1]: df = DataFrame(np.random.randn(10, 4))\n",
    "\n",
    "In [2]: df\n",
    "Out[2]: \n",
    "          0         1         2         3\n",
    "0  0.469112 -0.282863 -1.509059 -1.135632\n",
    "1  1.212112 -0.173215  0.119209 -1.044236\n",
    "2 -0.861849 -2.104569 -0.494929  1.071804\n",
    "3  0.721555 -0.706771 -1.039575  0.271860\n",
    "4 -0.424972  0.567020  0.276232 -1.087401\n",
    "5 -0.673690  0.113648 -1.478427  0.524988\n",
    "6  0.404705  0.577046 -1.715002 -1.039268\n",
    "7 -0.370647 -1.157892 -1.344312  0.844885\n",
    "8  1.075770 -0.109050  1.643563 -1.469388\n",
    "9  0.357021 -0.674600 -1.776904 -0.968914\n",
    "</pre>"
   ]
  },
  {
   "cell_type": "markdown",
   "metadata": {
    "slideshow": {
     "slide_type": "slide"
    }
   },
   "source": [
    "##Look for missing values"
   ]
  },
  {
   "cell_type": "code",
   "execution_count": 16,
   "metadata": {
    "collapsed": false
   },
   "outputs": [
    {
     "data": {
      "text/plain": [
       "player_id                       0\n",
       "full_name                       0\n",
       "position                        0\n",
       "team                            0\n",
       "week                            0\n",
       "fanduel_points                  0\n",
       "opponent                        0\n",
       "home_team                       0\n",
       "away_team                       0\n",
       "prev_fanduel_points           823\n",
       "mean_fanduel_points           823\n",
       "prev_fumbles_lost             823\n",
       "mean_fumbles_lost             823\n",
       "prev_fumbles_tot              823\n",
       "mean_fumbles_tot              823\n",
       "prev_passing_att              823\n",
       "mean_passing_att              823\n",
       "prev_passing_cmp              823\n",
       "mean_passing_cmp              823\n",
       "prev_passing_cmp_air_yds      823\n",
       "mean_passing_cmp_air_yds      823\n",
       "prev_passing_incmp            823\n",
       "mean_passing_incmp            823\n",
       "prev_passing_incmp_air_yds    823\n",
       "mean_passing_incmp_air_yds    823\n",
       "prev_passing_int              823\n",
       "mean_passing_int              823\n",
       "prev_passing_sk               823\n",
       "mean_passing_sk               823\n",
       "prev_passing_sk_yds           823\n",
       "mean_passing_sk_yds           823\n",
       "prev_passing_tds              823\n",
       "mean_passing_tds              823\n",
       "prev_passing_yds              823\n",
       "mean_passing_yds              823\n",
       "prev_receiving_rec            823\n",
       "mean_receiving_rec            823\n",
       "prev_receiving_tar            823\n",
       "mean_receiving_tar            823\n",
       "prev_receiving_tds            823\n",
       "mean_receiving_tds            823\n",
       "prev_receiving_yac_yds        823\n",
       "mean_receiving_yac_yds        823\n",
       "prev_receiving_yds            823\n",
       "mean_receiving_yds            823\n",
       "prev_rushing_att              823\n",
       "mean_rushing_att              823\n",
       "prev_rushing_loss             823\n",
       "mean_rushing_loss             823\n",
       "prev_rushing_loss_yds         823\n",
       "mean_rushing_loss_yds         823\n",
       "prev_rushing_tds              823\n",
       "mean_rushing_tds              823\n",
       "prev_rushing_yds              823\n",
       "mean_rushing_yds              823\n",
       "dtype: int64"
      ]
     },
     "execution_count": 16,
     "metadata": {},
     "output_type": "execute_result"
    }
   ],
   "source": [
    "df_no_week_1 = raw_df[raw_df.week > 1]\n",
    "df_no_week_1.isnull().sum()"
   ]
  },
  {
   "cell_type": "markdown",
   "metadata": {
    "slideshow": {
     "slide_type": "slide"
    }
   },
   "source": [
    "#What about relationships between variables?"
   ]
  },
  {
   "cell_type": "markdown",
   "metadata": {
    "slideshow": {
     "slide_type": "fragment"
    }
   },
   "source": [
    "##Should we compute covariance?\n"
   ]
  },
  {
   "cell_type": "markdown",
   "metadata": {
    "slideshow": {
     "slide_type": "fragment"
    }
   },
   "source": [
    "#Nah, let's make some plots!\n"
   ]
  },
  {
   "cell_type": "markdown",
   "metadata": {
    "slideshow": {
     "slide_type": "slide"
    }
   },
   "source": [
    "#A quick aside.\n",
    "##IPython Notebooks (like this one) are great.\n",
    "##Plots in your notebook!"
   ]
  },
  {
   "cell_type": "markdown",
   "metadata": {
    "slideshow": {
     "slide_type": "slide"
    }
   },
   "source": [
    "# Two plotting weapons\n",
    "\n",
    "###Matplotlib\n",
    "\n",
    "- The historical go-to for plotting\n",
    "- allows lots of fine-grained control\n",
    "- built with numpy in mind (Numpy and its cousin Scipy are the number-crunching go-to's in Python)\n",
    "\n",
    "###Seaborn\n",
    "\n",
    "- Expressive power\n",
    "- built with pandas in mind\n",
    "- trendy newcomer, but gaining a loyal following"
   ]
  },
  {
   "cell_type": "markdown",
   "metadata": {
    "slideshow": {
     "slide_type": "fragment"
    }
   },
   "source": [
    "We will mainly use seaborn examples in this presentation. It's very intuitive and powerful to use."
   ]
  },
  {
   "cell_type": "markdown",
   "metadata": {
    "collapsed": false,
    "slideshow": {
     "slide_type": "slide"
    }
   },
   "source": [
    "#What is the distribution of points earned?"
   ]
  },
  {
   "cell_type": "code",
   "execution_count": 10,
   "metadata": {
    "collapsed": false
   },
   "outputs": [
    {
     "data": {
      "text/plain": [
       "<matplotlib.figure.Figure at 0x6e83a50>"
      ]
     },
     "execution_count": 10,
     "metadata": {},
     "output_type": "execute_result"
    },
    {
     "data": {
      "image/png": "[encoded data removed]",
      "text/plain": [
       "<matplotlib.figure.Figure at 0x5fa9450>"
      ]
     },
     "metadata": {},
     "output_type": "display_data"
    },
    {
     "data": {
      "text/plain": [
       "<matplotlib.figure.Figure at 0x6e83a50>"
      ]
     },
     "metadata": {},
     "output_type": "display_data"
    }
   ],
   "source": [
    "pylab.hist(raw_df['fanduel_points'],\n",
    "               normed=True,\n",
    "               bins=np.linspace(-1, 35, 12),\n",
    "               alpha=0.35,\n",
    "               label='fanduel_points')\n",
    "pylab.legend()\n",
    "pylab.figure(figsize=(15,15))"
   ]
  },
  {
   "cell_type": "markdown",
   "metadata": {
    "slideshow": {
     "slide_type": "slide"
    }
   },
   "source": [
    "# Target is skewed --- let's transform it so it's more normal\n"
   ]
  },
  {
   "cell_type": "code",
   "execution_count": 11,
   "metadata": {
    "collapsed": false
   },
   "outputs": [
    {
     "data": {
      "text/plain": [
       "<matplotlib.legend.Legend at 0x6596f50>"
      ]
     },
     "execution_count": 11,
     "metadata": {},
     "output_type": "execute_result"
    },
    {
     "data": {
      "image/png": "[encoded data removed]",
      "text/plain": [
       "<matplotlib.figure.Figure at 0x5faccd0>"
      ]
     },
     "metadata": {},
     "output_type": "display_data"
    }
   ],
   "source": [
    "transformed_target = pd.DataFrame.copy(raw_df[raw_df.fanduel_points > 1])\n",
    "transformed_target['fanduel_points'] = np.log(raw_df[raw_df.fanduel_points > 0]['fanduel_points']-1)\n",
    "pylab.figure(figsize=(15,15))\n",
    "pylab.hist(transformed_target['fanduel_points'],\n",
    "               normed=True,\n",
    "               bins=np.linspace(-1, 4, 100),\n",
    "               alpha=0.35,\n",
    "               label='fanduel_points')\n",
    "pylab.legend()"
   ]
  },
  {
   "cell_type": "markdown",
   "metadata": {
    "collapsed": false
   },
   "source": [
    "# I see lots of zeroes --- Where are these bad performances coming from?\n",
    "\n"
   ]
  },
  {
   "cell_type": "code",
   "execution_count": 13,
   "metadata": {
    "collapsed": false
   },
   "outputs": [
    {
     "name": "stdout",
     "output_type": "stream",
     "text": [
      "   position  count\n",
      "24       WR   1822\n",
      "3        DE   1276\n",
      "19       RB   1226\n",
      "1        CB   1161\n",
      "15      OLB   1139\n",
      "23       TE    948\n",
      "2        DB    754\n",
      "4        DT    724\n",
      "10       LB    625\n",
      "21       SS    532\n",
      "18       QB    509\n",
      "6        FS    500\n",
      "9         K    462\n",
      "17        P    443\n",
      "8       ILB    414\n",
      "22        T    332\n",
      "13       NT    229\n",
      "12      MLB    210\n",
      "5        FB    175\n",
      "7         G    147\n",
      "0         C    142\n",
      "14       OG    107\n",
      "16       OT     94\n",
      "11       LS     73\n",
      "20      SAF      1\n"
     ]
    },
    {
     "data": {
      "image/png": "[encoded data removed]",
      "text/plain": [
       "<matplotlib.figure.Figure at 0x6668990>"
      ]
     },
     "metadata": {},
     "output_type": "display_data"
    }
   ],
   "source": [
    "no_nans = raw_df[raw_df[raw_df.fanduel_points< 3].notnull()]\n",
    "\n",
    "no_nans = raw_df[raw_df.position != 'UNK'] #remove Unknowns from this dataframe\n",
    "\n",
    "no_nans.groupby('position').size()\n",
    "\n",
    "bad_performances = pd.DataFrame({'count' : no_nans.groupby('position').size()}).reset_index()\n",
    "\n",
    "bad_performances = bad_performances.sort(['count'], ascending=[0])\n",
    "\n",
    "print bad_performances\n",
    "\n",
    "g = sns.factorplot(\"position\", \"count\",\n",
    "                    data=bad_performances, kind=\"bar\",\n",
    "                    size=15, palette=\"pastel\", dropna=True, x_order=bad_performances.position.values)\n"
   ]
  },
  {
   "cell_type": "code",
   "execution_count": 14,
   "metadata": {
    "collapsed": false
   },
   "outputs": [
    {
     "data": {
      "text/html": [
       "<div style=\"max-height:1000px;max-width:1500px;overflow:auto;\">\n",
       "<table border=\"1\" class=\"dataframe\">\n",
       "  <thead>\n",
       "    <tr style=\"text-align: right;\">\n",
       "      <th></th>\n",
       "      <th>player_id</th>\n",
       "      <th>full_name</th>\n",
       "      <th>position</th>\n",
       "      <th>team</th>\n",
       "      <th>week</th>\n",
       "      <th>fanduel_points</th>\n",
       "      <th>opponent</th>\n",
       "      <th>home_team</th>\n",
       "      <th>away_team</th>\n",
       "      <th>prev_fanduel_points</th>\n",
       "      <th>...</th>\n",
       "      <th>prev_rushing_att</th>\n",
       "      <th>mean_rushing_att</th>\n",
       "      <th>prev_rushing_loss</th>\n",
       "      <th>mean_rushing_loss</th>\n",
       "      <th>prev_rushing_loss_yds</th>\n",
       "      <th>mean_rushing_loss_yds</th>\n",
       "      <th>prev_rushing_tds</th>\n",
       "      <th>mean_rushing_tds</th>\n",
       "      <th>prev_rushing_yds</th>\n",
       "      <th>mean_rushing_yds</th>\n",
       "    </tr>\n",
       "  </thead>\n",
       "  <tbody>\n",
       "    <tr>\n",
       "      <th>1149</th>\n",
       "      <td>00-0019596</td>\n",
       "      <td>Tom Brady</td>\n",
       "      <td>QB</td>\n",
       "      <td>NE</td>\n",
       "      <td>2</td>\n",
       "      <td>28.24</td>\n",
       "      <td>BUF</td>\n",
       "      <td>BUF</td>\n",
       "      <td>NE</td>\n",
       "      <td>27.62</td>\n",
       "      <td>...</td>\n",
       "      <td>3</td>\n",
       "      <td>3</td>\n",
       "      <td>0</td>\n",
       "      <td>0</td>\n",
       "      <td>0</td>\n",
       "      <td>0</td>\n",
       "      <td>0</td>\n",
       "      <td>0</td>\n",
       "      <td>1</td>\n",
       "      <td>1</td>\n",
       "    </tr>\n",
       "  </tbody>\n",
       "</table>\n",
       "<p>1 rows × 55 columns</p>\n",
       "</div>"
      ],
      "text/plain": [
       "       player_id  full_name position team  week  fanduel_points opponent  \\\n",
       "1149  00-0019596  Tom Brady       QB   NE     2           28.24      BUF   \n",
       "\n",
       "     home_team away_team  prev_fanduel_points        ...         \\\n",
       "1149       BUF        NE                27.62        ...          \n",
       "\n",
       "      prev_rushing_att  mean_rushing_att  prev_rushing_loss  \\\n",
       "1149                 3                 3                  0   \n",
       "\n",
       "      mean_rushing_loss  prev_rushing_loss_yds  mean_rushing_loss_yds  \\\n",
       "1149                  0                      0                      0   \n",
       "\n",
       "      prev_rushing_tds  mean_rushing_tds  prev_rushing_yds  mean_rushing_yds  \n",
       "1149                 0                 0                 1                 1  \n",
       "\n",
       "[1 rows x 55 columns]"
      ]
     },
     "execution_count": 14,
     "metadata": {},
     "output_type": "execute_result"
    }
   ],
   "source": [
    "#Let's look at an individual player\n",
    "raw_df[(raw_df.full_name =='Tom Brady') & (raw_df.week == 2)]"
   ]
  },
  {
   "cell_type": "code",
   "execution_count": 15,
   "metadata": {
    "collapsed": false
   },
   "outputs": [
    {
     "data": {
      "text/plain": [
       "position\n",
       "CB         6.00\n",
       "DB         9.00\n",
       "FB       363.10\n",
       "G          1.50\n",
       "K       3506.12\n",
       "NT         6.10\n",
       "OT         3.60\n",
       "P          5.80\n",
       "QB      7861.24\n",
       "RB      8849.84\n",
       "T          1.20\n",
       "TE      4656.70\n",
       "UNK     5782.82\n",
       "WR     12457.80\n",
       "Name: fanduel_points, dtype: float64"
      ]
     },
     "execution_count": 15,
     "metadata": {},
     "output_type": "execute_result"
    }
   ],
   "source": [
    "#All positions are not created equal -- some score many more points than others\n",
    "raw_df[raw_df[raw_df.fanduel_points> 1].notnull()].groupby('position')['fanduel_points'].sum()"
   ]
  },
  {
   "cell_type": "code",
   "execution_count": 19,
   "metadata": {
    "collapsed": false
   },
   "outputs": [
    {
     "data": {
      "text/plain": [
       "position\n",
       "K      7.623636\n",
       "QB    15.448330\n",
       "RB     7.244731\n",
       "TE     4.967405\n",
       "WR     6.854775\n",
       "Name: fanduel_points, dtype: float64"
      ]
     },
     "execution_count": 19,
     "metadata": {},
     "output_type": "execute_result"
    }
   ],
   "source": [
    "#Since a few positions seem to score all the points, let's zoom in on those\n",
    "plot_order = ['TE', 'WR', 'RB', \n",
    "              'K', 'QB']\n",
    "top_positions_only = raw_df[raw_df.position.isin(plot_order)]\n",
    "top_positions_only.groupby('position')['fanduel_points'].mean()"
   ]
  },
  {
   "cell_type": "code",
   "execution_count": 20,
   "metadata": {
    "collapsed": false
   },
   "outputs": [
    {
     "data": {
      "text/plain": [
       "<matplotlib.axes._subplots.AxesSubplot at 0x5dd35d0>"
      ]
     },
     "execution_count": 20,
     "metadata": {},
     "output_type": "execute_result"
    },
    {
     "data": {
      "image/png": "[encoded data removed]",
      "text/plain": [
       "<matplotlib.figure.Figure at 0x5dd3150>"
      ]
     },
     "metadata": {},
     "output_type": "display_data"
    }
   ],
   "source": [
    "# Violin plots are a nice alternative to boxplots that also show interesting detail about\n",
    "# the shape of the distribution\n",
    "nonnull_subset = top_positions_only['fanduel_points'].notnull()\n",
    "plt.figure(figsize=(12, 6))\n",
    "sns.violinplot(top_positions_only['fanduel_points'][nonnull_subset], \n",
    "               top_positions_only['position'][nonnull_subset], \n",
    "               inner='box',\n",
    "               order=plot_order,\n",
    "               bw=1,\n",
    "               size=16)"
   ]
  },
  {
   "cell_type": "code",
   "execution_count": 18,
   "metadata": {
    "collapsed": false
   },
   "outputs": [
    {
     "data": {
      "text/plain": [
       "<matplotlib.legend.Legend at 0x9721210>"
      ]
     },
     "execution_count": 18,
     "metadata": {},
     "output_type": "execute_result"
    },
    {
     "data": {
      "image/png": "[encoded data removed]",
      "text/plain": [
       "<matplotlib.figure.Figure at 0xa6a8f50>"
      ]
     },
     "metadata": {},
     "output_type": "display_data"
    }
   ],
   "source": [
    "# QB's and kickers score the most points. Let's look into those using a Histogram\n",
    "qb_k = ['K', 'QB']\n",
    "qb_k_data = raw_df[raw_df.position.isin(qb_k)]\n",
    "groups = qb_k_data.groupby('position').groups\n",
    "\n",
    "pylab.figure(figsize=(15,5))\n",
    "for key, row_ids in groups.iteritems():\n",
    "    pylab.hist(qb_k_data['fanduel_points'][row_ids].values,\n",
    "               normed=True,\n",
    "               bins=np.linspace(-10, 50, 50),\n",
    "               alpha=0.35,\n",
    "               label=str(key))\n",
    "pylab.legend()"
   ]
  },
  {
   "cell_type": "code",
   "execution_count": 19,
   "metadata": {
    "collapsed": false
   },
   "outputs": [
    {
     "data": {
      "text/plain": [
       "<seaborn.axisgrid.FacetGrid at 0xa7d8b10>"
      ]
     },
     "execution_count": 19,
     "metadata": {},
     "output_type": "execute_result"
    },
    {
     "data": {
      "image/png": "[encoded data removed]",
      "text/plain": [
       "<matplotlib.figure.Figure at 0xa7dc1d0>"
      ]
     },
     "metadata": {},
     "output_type": "display_data"
    }
   ],
   "source": [
    "# We can use a Facetgrid to analyze teams\n",
    "\n",
    "def vertical_mean_line(x, **kwargs):\n",
    "    plt.axvline(np.percentile(x, 95), **kwargs)\n",
    "    \n",
    "teams = ['NE', 'CHI']\n",
    "team_data = raw_df[raw_df.team.isin(teams)]\n",
    "team_data = team_data[team_data.week < 4]\n",
    "\n",
    "g = sns.FacetGrid(team_data, row=\"team\", col=\"week\", \n",
    "                  margin_titles=True, dropna=True, size=4)\n",
    "bins = np.linspace(-3, 30, 30)\n",
    "g.map(plt.hist, \"fanduel_points\", color=\"black\", bins=bins, \n",
    "      lw=0, normed=True)\n",
    "g.map(vertical_mean_line, 'fanduel_points')\n"
   ]
  },
  {
   "cell_type": "code",
   "execution_count": 20,
   "metadata": {
    "collapsed": false
   },
   "outputs": [
    {
     "data": {
      "text/plain": [
       "<matplotlib.axes._subplots.AxesSubplot at 0xb8295d0>"
      ]
     },
     "execution_count": 20,
     "metadata": {},
     "output_type": "execute_result"
    },
    {
     "data": {
      "image/png": "[encoded data removed]",
      "text/plain": [
       "<matplotlib.figure.Figure at 0x90ea410>"
      ]
     },
     "metadata": {},
     "output_type": "display_data"
    }
   ],
   "source": [
    "# We can use a Heatmap to analyze teams kicker and qb performance\n",
    "teams = ['NE', 'CHI', 'NYG', 'DET', 'NYJ']\n",
    "team_data = qb_k_data[qb_k_data.team.isin(teams)]\n",
    "team_data = team_data[team_data.week < 10]\n",
    "ptable = pd.pivot_table(\n",
    "    team_data, \n",
    "    values='fanduel_points', \n",
    "    index=[\"team\"], \n",
    "    columns='week')\n",
    "reorder_teams = ptable.reindex(teams).fillna(0)\n",
    "pylab.figure(figsize=(15,5))\n",
    "sns.heatmap(reorder_teams.astype(int), annot=True, fmt=\"d\", cmap=\"YlGnBu\")\n",
    "\n",
    "# Zero values are bye weeks\n",
    "\n"
   ]
  },
  {
   "cell_type": "code",
   "execution_count": 21,
   "metadata": {
    "collapsed": false
   },
   "outputs": [
    {
     "data": {
      "text/plain": [
       "<seaborn.axisgrid.JointGrid at 0x88108d0>"
      ]
     },
     "execution_count": 21,
     "metadata": {},
     "output_type": "execute_result"
    },
    {
     "data": {
      "image/png": "[encoded data removed]",
      "text/plain": [
       "<matplotlib.figure.Figure at 0xa7c0550>"
      ]
     },
     "metadata": {},
     "output_type": "display_data"
    }
   ],
   "source": [
    "# Are previous week's points a good predictor of current week's points? \n",
    "# Let's consider only kicker and QB data for these teams\n",
    "# We have to exclude week 1 here since there is no previous weeks' mean\n",
    "team_data_no_week_1 = team_data[team_data.week > 1]\n",
    "grid = sns.JointGrid(team_data_no_week_1['mean_fanduel_points'], \n",
    "              team_data_no_week_1['fanduel_points'],space=0, size=10, ratio=50)\n",
    "grid.plot_joint(plt.scatter, color=\"g\")\n",
    "grid.plot_marginals(sns.rugplot, height=1, color=\"g\")"
   ]
  },
  {
   "cell_type": "code",
   "execution_count": 22,
   "metadata": {
    "collapsed": false
   },
   "outputs": [
    {
     "data": {
      "text/plain": [
       "<seaborn.axisgrid.JointGrid at 0xa7d40d0>"
      ]
     },
     "execution_count": 22,
     "metadata": {},
     "output_type": "execute_result"
    },
    {
     "data": {
      "image/png": "[encoded data removed]",
      "text/plain": [
       "<matplotlib.figure.Figure at 0x816d590>"
      ]
     },
     "metadata": {},
     "output_type": "display_data"
    }
   ],
   "source": [
    "# We can use jointplot (uses JointGrid internally) to get a quick regression line for this\n",
    "sns.jointplot('mean_fanduel_points', 'fanduel_points', data=team_data_no_week_1, \n",
    "              kind=\"reg\", color=sns.color_palette()[1], size=9)"
   ]
  },
  {
   "cell_type": "code",
   "execution_count": 23,
   "metadata": {
    "collapsed": false
   },
   "outputs": [],
   "source": [
    "# QB's are significantly more important than any other position. Let's dig in\n",
    "qb_df = raw_df[raw_df.position == 'QB']"
   ]
  },
  {
   "cell_type": "code",
   "execution_count": 24,
   "metadata": {
    "collapsed": false
   },
   "outputs": [
    {
     "data": {
      "text/plain": [
       "<seaborn.axisgrid.JointGrid at 0xab0ee10>"
      ]
     },
     "execution_count": 24,
     "metadata": {},
     "output_type": "execute_result"
    },
    {
     "data": {
      "image/png": "[encoded data removed]",
      "text/plain": [
       "<matplotlib.figure.Figure at 0xab0eed0>"
      ]
     },
     "metadata": {},
     "output_type": "display_data"
    }
   ],
   "source": [
    "# Passing attempts from previous weeks --- is there a trend with next week's performance? No\n",
    "sns.jointplot(qb_df['mean_passing_att'], \n",
    "              qb_df['fanduel_points'], kind=\"reg\", size=9)"
   ]
  },
  {
   "cell_type": "markdown",
   "metadata": {
    "slideshow": {
     "slide_type": "slide"
    }
   },
   "source": [
    "#Modeling"
   ]
  },
  {
   "cell_type": "markdown",
   "metadata": {
    "slideshow": {
     "slide_type": "fragment"
    }
   },
   "source": [
    "## Scikit-Learn\n",
    "\n",
    "# Widely used machine learning package\n",
    "\n",
    "- Classification Models\n",
    "- Regression Models\n",
    "- Clustering techniques\n",
    "- Dimensionality Reduction\n",
    "- Preprocessing\n",
    "- ..."
   ]
  },
  {
   "cell_type": "markdown",
   "metadata": {
    "slideshow": {
     "slide_type": "slide"
    }
   },
   "source": [
    "##Experimental Design\n",
    "\n"
   ]
  },
  {
   "cell_type": "markdown",
   "metadata": {
    "slideshow": {
     "slide_type": "slide"
    }
   },
   "source": [
    "##Build a model that is useful\n",
    "\n",
    "Can only build model on data that has a known output\n",
    "\n",
    "If we had missing values in our target (output variable) we would want to be careful\n",
    "\n"
   ]
  },
  {
   "cell_type": "markdown",
   "metadata": {
    "slideshow": {
     "slide_type": "slide"
    }
   },
   "source": [
    "## Avoiding overfitting\n",
    "- Need to keep data we train on from data we validate on\n",
    "- Otherwise the results will be overly optimistic\n",
    "- ... and ultimately, the model will perform poorly on new data"
   ]
  },
  {
   "cell_type": "markdown",
   "metadata": {
    "slideshow": {
     "slide_type": "slide"
    }
   },
   "source": [
    "### We will setup our training and test set in a bit"
   ]
  },
  {
   "cell_type": "code",
   "execution_count": 25,
   "metadata": {
    "collapsed": true
   },
   "outputs": [],
   "source": [
    "import sklearn\n"
   ]
  },
  {
   "cell_type": "code",
   "execution_count": 21,
   "metadata": {
    "collapsed": false
   },
   "outputs": [
    {
     "name": "stdout",
     "output_type": "stream",
     "text": [
      "0\n"
     ]
    }
   ],
   "source": [
    "# Let's prep for modeling\n",
    "exclude_week_1 = top_positions_only[top_positions_only.week > 1]\n",
    "\n",
    "model_data = pd.DataFrame.copy(exclude_week_1)\n",
    "\n",
    "model_data = model_data[model_data.fanduel_points > 0]\n",
    "\n",
    "print np.isnan(model_data['fanduel_points']).sum()\n",
    "\n",
    "# Let's cut our target out so we don't train on it\n",
    "target = model_data.pop('fanduel_points')\n",
    "\n",
    "# We don't need player id's --- let's throw this away\n",
    "throw_away = model_data.pop('player_id')\n",
    "\n",
    "import sklearn.cross_validation\n",
    "\n",
    "(train_data, \n",
    " test_data, \n",
    " train_target, \n",
    " test_target) = sklearn.cross_validation.train_test_split(\n",
    "    model_data, target, test_size=0.2, random_state=1337\n",
    ")"
   ]
  },
  {
   "cell_type": "markdown",
   "metadata": {
    "slideshow": {
     "slide_type": "slide"
    }
   },
   "source": [
    "####Today we will use simple train/test split"
   ]
  },
  {
   "cell_type": "markdown",
   "metadata": {
    "slideshow": {
     "slide_type": "slide"
    }
   },
   "source": [
    "####Recommend using multiple cross-validation folds"
   ]
  },
  {
   "cell_type": "markdown",
   "metadata": {
    "slideshow": {
     "slide_type": "slide"
    }
   },
   "source": [
    "##Variable Preprocessing"
   ]
  },
  {
   "cell_type": "markdown",
   "metadata": {
    "slideshow": {
     "slide_type": "fragment"
    }
   },
   "source": [
    "###Most statistical models require numeric encoding"
   ]
  },
  {
   "cell_type": "markdown",
   "metadata": {
    "slideshow": {
     "slide_type": "fragment"
    }
   },
   "source": [
    "###Many will choke on missing values"
   ]
  },
  {
   "cell_type": "markdown",
   "metadata": {
    "slideshow": {
     "slide_type": "fragment"
    }
   },
   "source": [
    "###Need some massaging before fitting a statistical learner"
   ]
  },
  {
   "cell_type": "code",
   "execution_count": 27,
   "metadata": {
    "collapsed": false
   },
   "outputs": [
    {
     "data": {
      "text/html": [
       "<div style=\"max-height:1000px;max-width:1500px;overflow:auto;\">\n",
       "<table border=\"1\" class=\"dataframe\">\n",
       "  <thead>\n",
       "    <tr style=\"text-align: right;\">\n",
       "      <th></th>\n",
       "      <th>0</th>\n",
       "      <th>1</th>\n",
       "      <th>2</th>\n",
       "      <th>3</th>\n",
       "      <th>4</th>\n",
       "      <th>5</th>\n",
       "      <th>6</th>\n",
       "      <th>7</th>\n",
       "      <th>8</th>\n",
       "      <th>9</th>\n",
       "      <th>...</th>\n",
       "      <th>560</th>\n",
       "      <th>561</th>\n",
       "      <th>562</th>\n",
       "      <th>563</th>\n",
       "      <th>564</th>\n",
       "      <th>565</th>\n",
       "      <th>566</th>\n",
       "      <th>567</th>\n",
       "      <th>568</th>\n",
       "      <th>569</th>\n",
       "    </tr>\n",
       "  </thead>\n",
       "  <tbody>\n",
       "    <tr>\n",
       "      <th>count</th>\n",
       "      <td>3160.000000</td>\n",
       "      <td>3160.000000</td>\n",
       "      <td>3160.000000</td>\n",
       "      <td>3160.000000</td>\n",
       "      <td>3160.000000</td>\n",
       "      <td>3160.000000</td>\n",
       "      <td>3160.000000</td>\n",
       "      <td>3160.000000</td>\n",
       "      <td>3160.000000</td>\n",
       "      <td>3160.000000</td>\n",
       "      <td>...</td>\n",
       "      <td>3160.000000</td>\n",
       "      <td>3160.000000</td>\n",
       "      <td>3160.000000</td>\n",
       "      <td>3160.000000</td>\n",
       "      <td>3160.000000</td>\n",
       "      <td>3160.000000</td>\n",
       "      <td>3160.000000</td>\n",
       "      <td>3160.000000</td>\n",
       "      <td>3160.000000</td>\n",
       "      <td>3160.000000</td>\n",
       "    </tr>\n",
       "    <tr>\n",
       "      <th>mean</th>\n",
       "      <td>0.034810</td>\n",
       "      <td>0.028797</td>\n",
       "      <td>0.032278</td>\n",
       "      <td>0.033861</td>\n",
       "      <td>0.028165</td>\n",
       "      <td>0.035443</td>\n",
       "      <td>0.029747</td>\n",
       "      <td>0.029430</td>\n",
       "      <td>0.037975</td>\n",
       "      <td>0.030696</td>\n",
       "      <td>...</td>\n",
       "      <td>0.037658</td>\n",
       "      <td>0.039241</td>\n",
       "      <td>0.029114</td>\n",
       "      <td>0.033544</td>\n",
       "      <td>0.031962</td>\n",
       "      <td>0.029747</td>\n",
       "      <td>0.028797</td>\n",
       "      <td>0.044304</td>\n",
       "      <td>0.037975</td>\n",
       "      <td>9.587658</td>\n",
       "    </tr>\n",
       "    <tr>\n",
       "      <th>std</th>\n",
       "      <td>0.183328</td>\n",
       "      <td>0.167263</td>\n",
       "      <td>0.176767</td>\n",
       "      <td>0.180899</td>\n",
       "      <td>0.165469</td>\n",
       "      <td>0.184926</td>\n",
       "      <td>0.169915</td>\n",
       "      <td>0.169036</td>\n",
       "      <td>0.191165</td>\n",
       "      <td>0.172521</td>\n",
       "      <td>...</td>\n",
       "      <td>0.190398</td>\n",
       "      <td>0.194197</td>\n",
       "      <td>0.168152</td>\n",
       "      <td>0.180081</td>\n",
       "      <td>0.175927</td>\n",
       "      <td>0.169915</td>\n",
       "      <td>0.167263</td>\n",
       "      <td>0.205802</td>\n",
       "      <td>0.191165</td>\n",
       "      <td>4.691149</td>\n",
       "    </tr>\n",
       "    <tr>\n",
       "      <th>min</th>\n",
       "      <td>0.000000</td>\n",
       "      <td>0.000000</td>\n",
       "      <td>0.000000</td>\n",
       "      <td>0.000000</td>\n",
       "      <td>0.000000</td>\n",
       "      <td>0.000000</td>\n",
       "      <td>0.000000</td>\n",
       "      <td>0.000000</td>\n",
       "      <td>0.000000</td>\n",
       "      <td>0.000000</td>\n",
       "      <td>...</td>\n",
       "      <td>0.000000</td>\n",
       "      <td>0.000000</td>\n",
       "      <td>0.000000</td>\n",
       "      <td>0.000000</td>\n",
       "      <td>0.000000</td>\n",
       "      <td>0.000000</td>\n",
       "      <td>0.000000</td>\n",
       "      <td>0.000000</td>\n",
       "      <td>0.000000</td>\n",
       "      <td>2.000000</td>\n",
       "    </tr>\n",
       "    <tr>\n",
       "      <th>25%</th>\n",
       "      <td>0.000000</td>\n",
       "      <td>0.000000</td>\n",
       "      <td>0.000000</td>\n",
       "      <td>0.000000</td>\n",
       "      <td>0.000000</td>\n",
       "      <td>0.000000</td>\n",
       "      <td>0.000000</td>\n",
       "      <td>0.000000</td>\n",
       "      <td>0.000000</td>\n",
       "      <td>0.000000</td>\n",
       "      <td>...</td>\n",
       "      <td>0.000000</td>\n",
       "      <td>0.000000</td>\n",
       "      <td>0.000000</td>\n",
       "      <td>0.000000</td>\n",
       "      <td>0.000000</td>\n",
       "      <td>0.000000</td>\n",
       "      <td>0.000000</td>\n",
       "      <td>0.000000</td>\n",
       "      <td>0.000000</td>\n",
       "      <td>5.000000</td>\n",
       "    </tr>\n",
       "    <tr>\n",
       "      <th>50%</th>\n",
       "      <td>0.000000</td>\n",
       "      <td>0.000000</td>\n",
       "      <td>0.000000</td>\n",
       "      <td>0.000000</td>\n",
       "      <td>0.000000</td>\n",
       "      <td>0.000000</td>\n",
       "      <td>0.000000</td>\n",
       "      <td>0.000000</td>\n",
       "      <td>0.000000</td>\n",
       "      <td>0.000000</td>\n",
       "      <td>...</td>\n",
       "      <td>0.000000</td>\n",
       "      <td>0.000000</td>\n",
       "      <td>0.000000</td>\n",
       "      <td>0.000000</td>\n",
       "      <td>0.000000</td>\n",
       "      <td>0.000000</td>\n",
       "      <td>0.000000</td>\n",
       "      <td>0.000000</td>\n",
       "      <td>0.000000</td>\n",
       "      <td>10.000000</td>\n",
       "    </tr>\n",
       "    <tr>\n",
       "      <th>75%</th>\n",
       "      <td>0.000000</td>\n",
       "      <td>0.000000</td>\n",
       "      <td>0.000000</td>\n",
       "      <td>0.000000</td>\n",
       "      <td>0.000000</td>\n",
       "      <td>0.000000</td>\n",
       "      <td>0.000000</td>\n",
       "      <td>0.000000</td>\n",
       "      <td>0.000000</td>\n",
       "      <td>0.000000</td>\n",
       "      <td>...</td>\n",
       "      <td>0.000000</td>\n",
       "      <td>0.000000</td>\n",
       "      <td>0.000000</td>\n",
       "      <td>0.000000</td>\n",
       "      <td>0.000000</td>\n",
       "      <td>0.000000</td>\n",
       "      <td>0.000000</td>\n",
       "      <td>0.000000</td>\n",
       "      <td>0.000000</td>\n",
       "      <td>14.000000</td>\n",
       "    </tr>\n",
       "    <tr>\n",
       "      <th>max</th>\n",
       "      <td>1.000000</td>\n",
       "      <td>1.000000</td>\n",
       "      <td>1.000000</td>\n",
       "      <td>1.000000</td>\n",
       "      <td>1.000000</td>\n",
       "      <td>1.000000</td>\n",
       "      <td>1.000000</td>\n",
       "      <td>1.000000</td>\n",
       "      <td>1.000000</td>\n",
       "      <td>1.000000</td>\n",
       "      <td>...</td>\n",
       "      <td>1.000000</td>\n",
       "      <td>1.000000</td>\n",
       "      <td>1.000000</td>\n",
       "      <td>1.000000</td>\n",
       "      <td>1.000000</td>\n",
       "      <td>1.000000</td>\n",
       "      <td>1.000000</td>\n",
       "      <td>1.000000</td>\n",
       "      <td>1.000000</td>\n",
       "      <td>17.000000</td>\n",
       "    </tr>\n",
       "  </tbody>\n",
       "</table>\n",
       "<p>8 rows × 570 columns</p>\n",
       "</div>"
      ],
      "text/plain": [
       "               0            1            2            3            4    \\\n",
       "count  3160.000000  3160.000000  3160.000000  3160.000000  3160.000000   \n",
       "mean      0.034810     0.028797     0.032278     0.033861     0.028165   \n",
       "std       0.183328     0.167263     0.176767     0.180899     0.165469   \n",
       "min       0.000000     0.000000     0.000000     0.000000     0.000000   \n",
       "25%       0.000000     0.000000     0.000000     0.000000     0.000000   \n",
       "50%       0.000000     0.000000     0.000000     0.000000     0.000000   \n",
       "75%       0.000000     0.000000     0.000000     0.000000     0.000000   \n",
       "max       1.000000     1.000000     1.000000     1.000000     1.000000   \n",
       "\n",
       "               5            6            7            8            9    \\\n",
       "count  3160.000000  3160.000000  3160.000000  3160.000000  3160.000000   \n",
       "mean      0.035443     0.029747     0.029430     0.037975     0.030696   \n",
       "std       0.184926     0.169915     0.169036     0.191165     0.172521   \n",
       "min       0.000000     0.000000     0.000000     0.000000     0.000000   \n",
       "25%       0.000000     0.000000     0.000000     0.000000     0.000000   \n",
       "50%       0.000000     0.000000     0.000000     0.000000     0.000000   \n",
       "75%       0.000000     0.000000     0.000000     0.000000     0.000000   \n",
       "max       1.000000     1.000000     1.000000     1.000000     1.000000   \n",
       "\n",
       "          ...               560          561          562          563  \\\n",
       "count     ...       3160.000000  3160.000000  3160.000000  3160.000000   \n",
       "mean      ...          0.037658     0.039241     0.029114     0.033544   \n",
       "std       ...          0.190398     0.194197     0.168152     0.180081   \n",
       "min       ...          0.000000     0.000000     0.000000     0.000000   \n",
       "25%       ...          0.000000     0.000000     0.000000     0.000000   \n",
       "50%       ...          0.000000     0.000000     0.000000     0.000000   \n",
       "75%       ...          0.000000     0.000000     0.000000     0.000000   \n",
       "max       ...          1.000000     1.000000     1.000000     1.000000   \n",
       "\n",
       "               564          565          566          567          568  \\\n",
       "count  3160.000000  3160.000000  3160.000000  3160.000000  3160.000000   \n",
       "mean      0.031962     0.029747     0.028797     0.044304     0.037975   \n",
       "std       0.175927     0.169915     0.167263     0.205802     0.191165   \n",
       "min       0.000000     0.000000     0.000000     0.000000     0.000000   \n",
       "25%       0.000000     0.000000     0.000000     0.000000     0.000000   \n",
       "50%       0.000000     0.000000     0.000000     0.000000     0.000000   \n",
       "75%       0.000000     0.000000     0.000000     0.000000     0.000000   \n",
       "max       1.000000     1.000000     1.000000     1.000000     1.000000   \n",
       "\n",
       "               569  \n",
       "count  3160.000000  \n",
       "mean      9.587658  \n",
       "std       4.691149  \n",
       "min       2.000000  \n",
       "25%       5.000000  \n",
       "50%      10.000000  \n",
       "75%      14.000000  \n",
       "max      17.000000  \n",
       "\n",
       "[8 rows x 570 columns]"
      ]
     },
     "execution_count": 27,
     "metadata": {},
     "output_type": "execute_result"
    }
   ],
   "source": [
    "#Handle categorical vars\n",
    "import sklearn.preprocessing\n",
    "import sklearn.feature_extraction\n",
    "from sklearn.feature_extraction import DictVectorizer\n",
    "encoder = DictVectorizer(sparse=False)\n",
    "\n",
    "#Let's do one-hot encoding in sklearn using DictVectorizer\n",
    "categorical_vars = ['full_name', 'position', 'team', 'week', 'opponent', 'home_team', 'away_team']\n",
    "vardata = train_data[categorical_vars].fillna('MISSING')\n",
    "encoder.fit(vardata.to_dict(orient='records'))\n",
    "train_catdata = encoder.transform(vardata.to_dict(orient='records'))\n",
    "\n",
    "test_vardata = test_data[categorical_vars].fillna('MISSING')\n",
    "test_catdata = encoder.transform(\n",
    "    test_vardata[categorical_vars].to_dict(orient='records'))\n",
    "\n",
    "pd.DataFrame(train_catdata).describe()\n"
   ]
  },
  {
   "cell_type": "markdown",
   "metadata": {
    "slideshow": {
     "slide_type": "slide"
    }
   },
   "source": [
    "##Missing values in numeric columns\n",
    "\n",
    "###We will impute with the median value"
   ]
  },
  {
   "cell_type": "code",
   "execution_count": 28,
   "metadata": {
    "collapsed": false
   },
   "outputs": [],
   "source": [
    "#Handle numeric vars\n",
    "from sklearn.preprocessing import Imputer\n",
    "imputer = Imputer(strategy='median')\n",
    "\n",
    "numeric_vars = list(set(train_data.columns.tolist()) - set(categorical_vars))\n",
    "\n",
    "numdata = train_data[numeric_vars]\n",
    "imputer.fit(numdata)\n",
    "\n",
    "train_numdata = imputer.transform(numdata)\n",
    "test_numdata = imputer.transform(test_data[numeric_vars])\n"
   ]
  },
  {
   "cell_type": "code",
   "execution_count": 29,
   "metadata": {
    "collapsed": false
   },
   "outputs": [],
   "source": [
    "train_this = np.hstack([train_numdata, train_catdata])\n",
    "test_this = np.hstack([test_numdata, test_catdata])\n"
   ]
  },
  {
   "cell_type": "code",
   "execution_count": 30,
   "metadata": {
    "collapsed": false
   },
   "outputs": [
    {
     "name": "stdout",
     "output_type": "stream",
     "text": [
      "False\n",
      "True\n"
     ]
    }
   ],
   "source": [
    "import sklearn\n",
    "from sklearn.linear_model import LinearRegression\n",
    "\n",
    "print np.any(isnan(train_numdata))\n",
    "print np.all(np.isfinite(train_numdata))\n",
    "\n",
    "lr = LinearRegression(fit_intercept=False)\n",
    "lr.fit(train_numdata, train_target)\n",
    "\n",
    "lr_predictions = pd.Series(lr.predict(test_numdata),\n",
    "                           name='Linear Regression')"
   ]
  },
  {
   "cell_type": "code",
   "execution_count": 31,
   "metadata": {
    "collapsed": false
   },
   "outputs": [
    {
     "data": {
      "text/plain": [
       "<seaborn.axisgrid.JointGrid at 0xd256590>"
      ]
     },
     "execution_count": 31,
     "metadata": {},
     "output_type": "execute_result"
    },
    {
     "data": {
      "text/plain": [
       "<matplotlib.figure.Figure at 0xc29a450>"
      ]
     },
     "metadata": {},
     "output_type": "display_data"
    },
    {
     "data": {
      "image/png": "[encoded data removed]",
      "text/plain": [
       "<matplotlib.figure.Figure at 0xd2569d0>"
      ]
     },
     "metadata": {},
     "output_type": "display_data"
    }
   ],
   "source": [
    "\n",
    "p_df = pd.DataFrame({'Prediction': lr_predictions,\n",
    "                     'Actual': test_target.values})\n",
    "\n",
    "pylab.figure(figsize=(10, 10))\n",
    "sns.jointplot('Actual', 'Prediction', data=p_df, \n",
    "              kind=\"hex\", color=sns.color_palette()[1])\n",
    "#Let's take a look at our residuals using using just the categorical vars"
   ]
  },
  {
   "cell_type": "code",
   "execution_count": 32,
   "metadata": {
    "collapsed": false
   },
   "outputs": [
    {
     "data": {
      "text/html": [
       "<div style=\"max-height:1000px;max-width:1500px;overflow:auto;\">\n",
       "<table border=\"1\" class=\"dataframe\">\n",
       "  <thead>\n",
       "    <tr style=\"text-align: right;\">\n",
       "      <th></th>\n",
       "      <th>Explained Variance</th>\n",
       "      <th>MAE</th>\n",
       "      <th>MSE</th>\n",
       "      <th>MedAE</th>\n",
       "      <th>R2</th>\n",
       "    </tr>\n",
       "    <tr>\n",
       "      <th>name</th>\n",
       "      <th></th>\n",
       "      <th></th>\n",
       "      <th></th>\n",
       "      <th></th>\n",
       "      <th></th>\n",
       "    </tr>\n",
       "  </thead>\n",
       "  <tbody>\n",
       "    <tr>\n",
       "      <th>Linear Regression</th>\n",
       "      <td>0.335165</td>\n",
       "      <td>4.444197</td>\n",
       "      <td>36.212686</td>\n",
       "      <td>3.399439</td>\n",
       "      <td>0.331252</td>\n",
       "    </tr>\n",
       "  </tbody>\n",
       "</table>\n",
       "</div>"
      ],
      "text/plain": [
       "                   Explained Variance       MAE        MSE     MedAE        R2\n",
       "name                                                                          \n",
       "Linear Regression            0.335165  4.444197  36.212686  3.399439  0.331252"
      ]
     },
     "execution_count": 32,
     "metadata": {},
     "output_type": "execute_result"
    }
   ],
   "source": [
    "from sklearn import metrics\n",
    "\n",
    "test_metrics = {\n",
    "    'Explained Variance': metrics.explained_variance_score,\n",
    "    'MAE': metrics.mean_absolute_error,\n",
    "    'MSE': metrics.mean_squared_error,\n",
    "    'MedAE': metrics.median_absolute_error,\n",
    "    'R2': metrics.r2_score\n",
    "}\n",
    "def metrics_report(*predictions):\n",
    "    records = []\n",
    "    for prediction_set in predictions:\n",
    "        record = {'name': prediction_set.name}\n",
    "        for metric_name in sorted(test_metrics.keys()):\n",
    "            metric_func = test_metrics[metric_name]\n",
    "            record[metric_name] = metric_func(test_target, prediction_set)\n",
    "        records.append(record)\n",
    "    frame = pd.DataFrame.from_records(records).set_index('name')\n",
    "    return frame\n",
    "        \n",
    "metrics_report(lr_predictions)"
   ]
  },
  {
   "cell_type": "code",
   "execution_count": 33,
   "metadata": {
    "collapsed": false
   },
   "outputs": [
    {
     "data": {
      "text/html": [
       "<div style=\"max-height:1000px;max-width:1500px;overflow:auto;\">\n",
       "<table border=\"1\" class=\"dataframe\">\n",
       "  <thead>\n",
       "    <tr style=\"text-align: right;\">\n",
       "      <th></th>\n",
       "      <th>Explained Variance</th>\n",
       "      <th>MAE</th>\n",
       "      <th>MSE</th>\n",
       "      <th>MedAE</th>\n",
       "      <th>R2</th>\n",
       "    </tr>\n",
       "    <tr>\n",
       "      <th>name</th>\n",
       "      <th></th>\n",
       "      <th></th>\n",
       "      <th></th>\n",
       "      <th></th>\n",
       "      <th></th>\n",
       "    </tr>\n",
       "  </thead>\n",
       "  <tbody>\n",
       "    <tr>\n",
       "      <th>Mean Response</th>\n",
       "      <td>0.000000</td>\n",
       "      <td>5.916924</td>\n",
       "      <td>54.151808</td>\n",
       "      <td>5.627266</td>\n",
       "      <td>-0.000034</td>\n",
       "    </tr>\n",
       "    <tr>\n",
       "      <th>Median Response</th>\n",
       "      <td>0.000000</td>\n",
       "      <td>5.746785</td>\n",
       "      <td>57.647159</td>\n",
       "      <td>4.800000</td>\n",
       "      <td>-0.064583</td>\n",
       "    </tr>\n",
       "    <tr>\n",
       "      <th>Linear Regression</th>\n",
       "      <td>0.335165</td>\n",
       "      <td>4.444197</td>\n",
       "      <td>36.212686</td>\n",
       "      <td>3.399439</td>\n",
       "      <td>0.331252</td>\n",
       "    </tr>\n",
       "  </tbody>\n",
       "</table>\n",
       "</div>"
      ],
      "text/plain": [
       "                   Explained Variance       MAE        MSE     MedAE        R2\n",
       "name                                                                          \n",
       "Mean Response                0.000000  5.916924  54.151808  5.627266 -0.000034\n",
       "Median Response              0.000000  5.746785  57.647159  4.800000 -0.064583\n",
       "Linear Regression            0.335165  4.444197  36.212686  3.399439  0.331252"
      ]
     },
     "execution_count": 33,
     "metadata": {},
     "output_type": "execute_result"
    }
   ],
   "source": [
    "# We need to add reference models to track a baseline performance that we can compare our other models to\n",
    "mean_response = np.mean(train_target)\n",
    "mean_predictions = pd.Series(np.ones_like(test_target) * mean_response,\n",
    "                             name='Mean Response')\n",
    "\n",
    "median_response = np.median(train_target)\n",
    "median_predictions = pd.Series(np.ones_like(test_target) * median_response,\n",
    "                               name='Median Response')\n",
    "\n",
    "metrics_report(mean_predictions, \n",
    "               median_predictions, \n",
    "               lr_predictions)"
   ]
  },
  {
   "cell_type": "code",
   "execution_count": 34,
   "metadata": {
    "collapsed": false
   },
   "outputs": [
    {
     "data": {
      "text/plain": [
       "GridSearchCV(cv=None, error_score='raise',\n",
       "       estimator=ElasticNet(alpha=1.0, copy_X=True, fit_intercept=True, l1_ratio=0.5,\n",
       "      max_iter=1000, normalize=False, positive=False, precompute=False,\n",
       "      random_state=None, selection='cyclic', tol=0.0001, warm_start=False),\n",
       "       fit_params={}, iid=True, loss_func=None, n_jobs=1,\n",
       "       param_grid={'alpha': array([ 0.1    ,  0.31111,  0.52222,  0.73333,  0.94444,  1.15556,\n",
       "        1.36667,  1.57778,  1.78889,  2.     ]), 'l1_ratio': array([ 0.     ,  0.11111,  0.22222,  0.33333,  0.44444,  0.55556,\n",
       "        0.66667,  0.77778,  0.88889,  1.     ])},\n",
       "       pre_dispatch='2*n_jobs', refit=True, score_func=None, scoring=None,\n",
       "       verbose=0)"
      ]
     },
     "execution_count": 34,
     "metadata": {},
     "output_type": "execute_result"
    }
   ],
   "source": [
    "#Time for ElasticNet\n",
    "\n",
    "from sklearn.grid_search import GridSearchCV\n",
    "from sklearn.linear_model import ElasticNet\n",
    "\n",
    "estimator = ElasticNet()\n",
    "\n",
    "parameters = {\n",
    "    'alpha': np.linspace(0.1, 2, 10, endpoint=True),\n",
    "    'l1_ratio': np.linspace(0, 1, 10, endpoint=True)\n",
    "}\n",
    "\n",
    "enet = GridSearchCV(estimator, parameters)\n",
    "enet.fit(train_numdata, train_target)\n"
   ]
  },
  {
   "cell_type": "code",
   "execution_count": 35,
   "metadata": {
    "collapsed": false
   },
   "outputs": [
    {
     "name": "stdout",
     "output_type": "stream",
     "text": [
      "({'alpha': 0.52222222222222225, 'l1_ratio': 0.55555555555555558}, 0.27276120897428852)\n",
      "()\n",
      "Grid scores on development set:\n",
      "()\n",
      "0.270 (+/-0.061) for {'alpha': 0.10000000000000001, 'l1_ratio': 0.0}\n",
      "0.270 (+/-0.061) for {'alpha': 0.10000000000000001, 'l1_ratio': 0.1111111111111111}\n",
      "0.270 (+/-0.060) for {'alpha': 0.10000000000000001, 'l1_ratio': 0.22222222222222221}\n",
      "0.270 (+/-0.060) for {'alpha': 0.10000000000000001, 'l1_ratio': 0.33333333333333331}\n",
      "0.271 (+/-0.059) for {'alpha': 0.10000000000000001, 'l1_ratio': 0.44444444444444442}\n",
      "0.271 (+/-0.059) for {'alpha': 0.10000000000000001, 'l1_ratio': 0.55555555555555558}\n",
      "0.271 (+/-0.059) for {'alpha': 0.10000000000000001, 'l1_ratio': 0.66666666666666663}\n",
      "0.271 (+/-0.059) for {'alpha': 0.10000000000000001, 'l1_ratio': 0.77777777777777768}\n",
      "0.271 (+/-0.059) for {'alpha': 0.10000000000000001, 'l1_ratio': 0.88888888888888884}\n",
      "0.271 (+/-0.058) for {'alpha': 0.10000000000000001, 'l1_ratio': 1.0}\n",
      "0.271 (+/-0.061) for {'alpha': 0.31111111111111112, 'l1_ratio': 0.0}\n",
      "0.271 (+/-0.060) for {'alpha': 0.31111111111111112, 'l1_ratio': 0.1111111111111111}\n",
      "0.271 (+/-0.059) for {'alpha': 0.31111111111111112, 'l1_ratio': 0.22222222222222221}\n",
      "0.272 (+/-0.058) for {'alpha': 0.31111111111111112, 'l1_ratio': 0.33333333333333331}\n",
      "0.272 (+/-0.058) for {'alpha': 0.31111111111111112, 'l1_ratio': 0.44444444444444442}\n",
      "0.272 (+/-0.058) for {'alpha': 0.31111111111111112, 'l1_ratio': 0.55555555555555558}\n",
      "0.273 (+/-0.057) for {'alpha': 0.31111111111111112, 'l1_ratio': 0.66666666666666663}\n",
      "0.273 (+/-0.057) for {'alpha': 0.31111111111111112, 'l1_ratio': 0.77777777777777768}\n",
      "0.273 (+/-0.057) for {'alpha': 0.31111111111111112, 'l1_ratio': 0.88888888888888884}\n",
      "0.273 (+/-0.056) for {'alpha': 0.31111111111111112, 'l1_ratio': 1.0}\n",
      "0.272 (+/-0.060) for {'alpha': 0.52222222222222225, 'l1_ratio': 0.0}\n",
      "0.272 (+/-0.058) for {'alpha': 0.52222222222222225, 'l1_ratio': 0.1111111111111111}\n",
      "0.272 (+/-0.058) for {'alpha': 0.52222222222222225, 'l1_ratio': 0.22222222222222221}\n",
      "0.273 (+/-0.057) for {'alpha': 0.52222222222222225, 'l1_ratio': 0.33333333333333331}\n",
      "0.273 (+/-0.057) for {'alpha': 0.52222222222222225, 'l1_ratio': 0.44444444444444442}\n",
      "0.273 (+/-0.056) for {'alpha': 0.52222222222222225, 'l1_ratio': 0.55555555555555558}\n",
      "0.273 (+/-0.056) for {'alpha': 0.52222222222222225, 'l1_ratio': 0.66666666666666663}\n",
      "0.272 (+/-0.055) for {'alpha': 0.52222222222222225, 'l1_ratio': 0.77777777777777768}\n",
      "0.272 (+/-0.055) for {'alpha': 0.52222222222222225, 'l1_ratio': 0.88888888888888884}\n",
      "0.272 (+/-0.054) for {'alpha': 0.52222222222222225, 'l1_ratio': 1.0}\n",
      "0.272 (+/-0.059) for {'alpha': 0.73333333333333328, 'l1_ratio': 0.0}\n",
      "0.272 (+/-0.057) for {'alpha': 0.73333333333333328, 'l1_ratio': 0.1111111111111111}\n",
      "0.273 (+/-0.057) for {'alpha': 0.73333333333333328, 'l1_ratio': 0.22222222222222221}\n",
      "0.273 (+/-0.056) for {'alpha': 0.73333333333333328, 'l1_ratio': 0.33333333333333331}\n",
      "0.273 (+/-0.055) for {'alpha': 0.73333333333333328, 'l1_ratio': 0.44444444444444442}\n",
      "0.272 (+/-0.055) for {'alpha': 0.73333333333333328, 'l1_ratio': 0.55555555555555558}\n",
      "0.272 (+/-0.054) for {'alpha': 0.73333333333333328, 'l1_ratio': 0.66666666666666663}\n",
      "0.272 (+/-0.053) for {'alpha': 0.73333333333333328, 'l1_ratio': 0.77777777777777768}\n",
      "0.272 (+/-0.052) for {'alpha': 0.73333333333333328, 'l1_ratio': 0.88888888888888884}\n",
      "0.271 (+/-0.051) for {'alpha': 0.73333333333333328, 'l1_ratio': 1.0}\n",
      "0.272 (+/-0.058) for {'alpha': 0.94444444444444442, 'l1_ratio': 0.0}\n",
      "0.272 (+/-0.057) for {'alpha': 0.94444444444444442, 'l1_ratio': 0.1111111111111111}\n",
      "0.273 (+/-0.056) for {'alpha': 0.94444444444444442, 'l1_ratio': 0.22222222222222221}\n",
      "0.273 (+/-0.055) for {'alpha': 0.94444444444444442, 'l1_ratio': 0.33333333333333331}\n",
      "0.272 (+/-0.055) for {'alpha': 0.94444444444444442, 'l1_ratio': 0.44444444444444442}\n",
      "0.272 (+/-0.054) for {'alpha': 0.94444444444444442, 'l1_ratio': 0.55555555555555558}\n",
      "0.272 (+/-0.052) for {'alpha': 0.94444444444444442, 'l1_ratio': 0.66666666666666663}\n",
      "0.271 (+/-0.051) for {'alpha': 0.94444444444444442, 'l1_ratio': 0.77777777777777768}\n",
      "0.271 (+/-0.052) for {'alpha': 0.94444444444444442, 'l1_ratio': 0.88888888888888884}\n",
      "0.271 (+/-0.052) for {'alpha': 0.94444444444444442, 'l1_ratio': 1.0}\n",
      "0.272 (+/-0.058) for {'alpha': 1.1555555555555557, 'l1_ratio': 0.0}\n",
      "0.272 (+/-0.056) for {'alpha': 1.1555555555555557, 'l1_ratio': 0.1111111111111111}\n",
      "0.273 (+/-0.055) for {'alpha': 1.1555555555555557, 'l1_ratio': 0.22222222222222221}\n",
      "0.272 (+/-0.055) for {'alpha': 1.1555555555555557, 'l1_ratio': 0.33333333333333331}\n",
      "0.272 (+/-0.054) for {'alpha': 1.1555555555555557, 'l1_ratio': 0.44444444444444442}\n",
      "0.271 (+/-0.052) for {'alpha': 1.1555555555555557, 'l1_ratio': 0.55555555555555558}\n",
      "0.271 (+/-0.052) for {'alpha': 1.1555555555555557, 'l1_ratio': 0.66666666666666663}\n",
      "0.271 (+/-0.052) for {'alpha': 1.1555555555555557, 'l1_ratio': 0.77777777777777768}\n",
      "0.271 (+/-0.052) for {'alpha': 1.1555555555555557, 'l1_ratio': 0.88888888888888884}\n",
      "0.270 (+/-0.052) for {'alpha': 1.1555555555555557, 'l1_ratio': 1.0}\n",
      "0.272 (+/-0.057) for {'alpha': 1.3666666666666667, 'l1_ratio': 0.0}\n",
      "0.272 (+/-0.056) for {'alpha': 1.3666666666666667, 'l1_ratio': 0.1111111111111111}\n",
      "0.272 (+/-0.055) for {'alpha': 1.3666666666666667, 'l1_ratio': 0.22222222222222221}\n",
      "0.272 (+/-0.054) for {'alpha': 1.3666666666666667, 'l1_ratio': 0.33333333333333331}\n",
      "0.271 (+/-0.053) for {'alpha': 1.3666666666666667, 'l1_ratio': 0.44444444444444442}\n",
      "0.271 (+/-0.052) for {'alpha': 1.3666666666666667, 'l1_ratio': 0.55555555555555558}\n",
      "0.271 (+/-0.052) for {'alpha': 1.3666666666666667, 'l1_ratio': 0.66666666666666663}\n",
      "0.270 (+/-0.052) for {'alpha': 1.3666666666666667, 'l1_ratio': 0.77777777777777768}\n",
      "0.270 (+/-0.053) for {'alpha': 1.3666666666666667, 'l1_ratio': 0.88888888888888884}\n",
      "0.269 (+/-0.053) for {'alpha': 1.3666666666666667, 'l1_ratio': 1.0}\n",
      "0.272 (+/-0.057) for {'alpha': 1.5777777777777779, 'l1_ratio': 0.0}\n",
      "0.272 (+/-0.056) for {'alpha': 1.5777777777777779, 'l1_ratio': 0.1111111111111111}\n",
      "0.272 (+/-0.055) for {'alpha': 1.5777777777777779, 'l1_ratio': 0.22222222222222221}\n",
      "0.272 (+/-0.053) for {'alpha': 1.5777777777777779, 'l1_ratio': 0.33333333333333331}\n",
      "0.271 (+/-0.052) for {'alpha': 1.5777777777777779, 'l1_ratio': 0.44444444444444442}\n",
      "0.271 (+/-0.052) for {'alpha': 1.5777777777777779, 'l1_ratio': 0.55555555555555558}\n",
      "0.270 (+/-0.052) for {'alpha': 1.5777777777777779, 'l1_ratio': 0.66666666666666663}\n",
      "0.270 (+/-0.053) for {'alpha': 1.5777777777777779, 'l1_ratio': 0.77777777777777768}\n",
      "0.269 (+/-0.053) for {'alpha': 1.5777777777777779, 'l1_ratio': 0.88888888888888884}\n",
      "0.269 (+/-0.053) for {'alpha': 1.5777777777777779, 'l1_ratio': 1.0}\n",
      "0.272 (+/-0.057) for {'alpha': 1.788888888888889, 'l1_ratio': 0.0}\n",
      "0.272 (+/-0.055) for {'alpha': 1.788888888888889, 'l1_ratio': 0.1111111111111111}\n",
      "0.272 (+/-0.055) for {'alpha': 1.788888888888889, 'l1_ratio': 0.22222222222222221}\n",
      "0.271 (+/-0.053) for {'alpha': 1.788888888888889, 'l1_ratio': 0.33333333333333331}\n",
      "0.271 (+/-0.052) for {'alpha': 1.788888888888889, 'l1_ratio': 0.44444444444444442}\n",
      "0.270 (+/-0.052) for {'alpha': 1.788888888888889, 'l1_ratio': 0.55555555555555558}\n",
      "0.270 (+/-0.053) for {'alpha': 1.788888888888889, 'l1_ratio': 0.66666666666666663}\n",
      "0.269 (+/-0.053) for {'alpha': 1.788888888888889, 'l1_ratio': 0.77777777777777768}\n",
      "0.268 (+/-0.053) for {'alpha': 1.788888888888889, 'l1_ratio': 0.88888888888888884}\n",
      "0.268 (+/-0.053) for {'alpha': 1.788888888888889, 'l1_ratio': 1.0}\n",
      "0.272 (+/-0.056) for {'alpha': 2.0, 'l1_ratio': 0.0}\n",
      "0.272 (+/-0.055) for {'alpha': 2.0, 'l1_ratio': 0.1111111111111111}\n",
      "0.271 (+/-0.054) for {'alpha': 2.0, 'l1_ratio': 0.22222222222222221}\n",
      "0.271 (+/-0.052) for {'alpha': 2.0, 'l1_ratio': 0.33333333333333331}\n",
      "0.270 (+/-0.052) for {'alpha': 2.0, 'l1_ratio': 0.44444444444444442}\n",
      "0.270 (+/-0.053) for {'alpha': 2.0, 'l1_ratio': 0.55555555555555558}\n",
      "0.269 (+/-0.053) for {'alpha': 2.0, 'l1_ratio': 0.66666666666666663}\n",
      "0.268 (+/-0.053) for {'alpha': 2.0, 'l1_ratio': 0.77777777777777768}\n",
      "0.268 (+/-0.053) for {'alpha': 2.0, 'l1_ratio': 0.88888888888888884}\n",
      "0.267 (+/-0.053) for {'alpha': 2.0, 'l1_ratio': 1.0}\n",
      "()\n"
     ]
    }
   ],
   "source": [
    "print(enet.best_params_, enet.best_score_)\n",
    "print()\n",
    "print(\"Grid scores on development set:\")\n",
    "print()\n",
    "for params, mean_score, scores in enet.grid_scores_:\n",
    "    print(\"%0.3f (+/-%0.03f) for %r\" % (mean_score, scores.std() * 2, params))\n",
    "print()"
   ]
  },
  {
   "cell_type": "code",
   "execution_count": 36,
   "metadata": {
    "collapsed": false
   },
   "outputs": [
    {
     "data": {
      "text/plain": [
       "GridSearchCV(cv=None, error_score='raise',\n",
       "       estimator=ElasticNet(alpha=1.0, copy_X=True, fit_intercept=True, l1_ratio=0.5,\n",
       "      max_iter=1000, normalize=False, positive=False, precompute=False,\n",
       "      random_state=None, selection='cyclic', tol=0.0001, warm_start=False),\n",
       "       fit_params={}, iid=True, loss_func=None, n_jobs=1,\n",
       "       param_grid={'alpha': array([ 0.4    ,  0.42222,  0.44444,  0.46667,  0.48889,  0.51111,\n",
       "        0.53333,  0.55556,  0.57778,  0.6    ]), 'l1_ratio': array([ 0.4    ,  0.42222,  0.44444,  0.46667,  0.48889,  0.51111,\n",
       "        0.53333,  0.55556,  0.57778,  0.6    ])},\n",
       "       pre_dispatch='2*n_jobs', refit=True, score_func=None, scoring=None,\n",
       "       verbose=0)"
      ]
     },
     "execution_count": 36,
     "metadata": {},
     "output_type": "execute_result"
    }
   ],
   "source": [
    "estimator2 = ElasticNet()\n",
    "\n",
    "parameters2 = {\n",
    "    'alpha': np.linspace(0.4, 0.6, 10, endpoint=True),\n",
    "    'l1_ratio': np.linspace(0.4, 0.6, 10, endpoint=True)\n",
    "}\n",
    "\n",
    "enet2 = GridSearchCV(estimator2, parameters2)\n",
    "enet2.fit(train_numdata, train_target)"
   ]
  },
  {
   "cell_type": "code",
   "execution_count": 46,
   "metadata": {
    "collapsed": false
   },
   "outputs": [
    {
     "name": "stdout",
     "output_type": "stream",
     "text": [
      "({'alpha': 0.59999999999999998, 'l1_ratio': 0.48888888888888887}, 0.27276653788293181)\n",
      "()\n",
      "Grid scores on development set:\n",
      "()\n",
      "0.272 (+/-0.058) for {'alpha': 0.40000000000000002, 'l1_ratio': 0.40000000000000002}\n",
      "0.272 (+/-0.058) for {'alpha': 0.40000000000000002, 'l1_ratio': 0.42222222222222222}\n",
      "0.273 (+/-0.058) for {'alpha': 0.40000000000000002, 'l1_ratio': 0.44444444444444448}\n",
      "0.273 (+/-0.058) for {'alpha': 0.40000000000000002, 'l1_ratio': 0.46666666666666667}\n",
      "0.273 (+/-0.057) for {'alpha': 0.40000000000000002, 'l1_ratio': 0.48888888888888887}\n",
      "0.273 (+/-0.057) for {'alpha': 0.40000000000000002, 'l1_ratio': 0.51111111111111107}\n",
      "0.273 (+/-0.057) for {'alpha': 0.40000000000000002, 'l1_ratio': 0.53333333333333333}\n",
      "0.273 (+/-0.057) for {'alpha': 0.40000000000000002, 'l1_ratio': 0.55555555555555558}\n",
      "0.273 (+/-0.057) for {'alpha': 0.40000000000000002, 'l1_ratio': 0.57777777777777772}\n",
      "0.273 (+/-0.057) for {'alpha': 0.40000000000000002, 'l1_ratio': 0.59999999999999998}\n",
      "0.272 (+/-0.058) for {'alpha': 0.42222222222222222, 'l1_ratio': 0.40000000000000002}\n",
      "0.273 (+/-0.058) for {'alpha': 0.42222222222222222, 'l1_ratio': 0.42222222222222222}\n",
      "0.273 (+/-0.057) for {'alpha': 0.42222222222222222, 'l1_ratio': 0.44444444444444448}\n",
      "0.273 (+/-0.057) for {'alpha': 0.42222222222222222, 'l1_ratio': 0.46666666666666667}\n",
      "0.273 (+/-0.057) for {'alpha': 0.42222222222222222, 'l1_ratio': 0.48888888888888887}\n",
      "0.273 (+/-0.057) for {'alpha': 0.42222222222222222, 'l1_ratio': 0.51111111111111107}\n",
      "0.273 (+/-0.057) for {'alpha': 0.42222222222222222, 'l1_ratio': 0.53333333333333333}\n",
      "0.273 (+/-0.057) for {'alpha': 0.42222222222222222, 'l1_ratio': 0.55555555555555558}\n",
      "0.273 (+/-0.057) for {'alpha': 0.42222222222222222, 'l1_ratio': 0.57777777777777772}\n",
      "0.273 (+/-0.057) for {'alpha': 0.42222222222222222, 'l1_ratio': 0.59999999999999998}\n",
      "0.273 (+/-0.058) for {'alpha': 0.44444444444444448, 'l1_ratio': 0.40000000000000002}\n",
      "0.273 (+/-0.057) for {'alpha': 0.44444444444444448, 'l1_ratio': 0.42222222222222222}\n",
      "0.273 (+/-0.057) for {'alpha': 0.44444444444444448, 'l1_ratio': 0.44444444444444448}\n",
      "0.273 (+/-0.057) for {'alpha': 0.44444444444444448, 'l1_ratio': 0.46666666666666667}\n",
      "0.273 (+/-0.057) for {'alpha': 0.44444444444444448, 'l1_ratio': 0.48888888888888887}\n",
      "0.273 (+/-0.057) for {'alpha': 0.44444444444444448, 'l1_ratio': 0.51111111111111107}\n",
      "0.273 (+/-0.057) for {'alpha': 0.44444444444444448, 'l1_ratio': 0.53333333333333333}\n",
      "0.273 (+/-0.057) for {'alpha': 0.44444444444444448, 'l1_ratio': 0.55555555555555558}\n",
      "0.273 (+/-0.057) for {'alpha': 0.44444444444444448, 'l1_ratio': 0.57777777777777772}\n",
      "0.273 (+/-0.056) for {'alpha': 0.44444444444444448, 'l1_ratio': 0.59999999999999998}\n",
      "0.273 (+/-0.057) for {'alpha': 0.46666666666666667, 'l1_ratio': 0.40000000000000002}\n",
      "0.273 (+/-0.057) for {'alpha': 0.46666666666666667, 'l1_ratio': 0.42222222222222222}\n",
      "0.273 (+/-0.057) for {'alpha': 0.46666666666666667, 'l1_ratio': 0.44444444444444448}\n",
      "0.273 (+/-0.057) for {'alpha': 0.46666666666666667, 'l1_ratio': 0.46666666666666667}\n",
      "0.273 (+/-0.057) for {'alpha': 0.46666666666666667, 'l1_ratio': 0.48888888888888887}\n",
      "0.273 (+/-0.057) for {'alpha': 0.46666666666666667, 'l1_ratio': 0.51111111111111107}\n",
      "0.273 (+/-0.057) for {'alpha': 0.46666666666666667, 'l1_ratio': 0.53333333333333333}\n",
      "0.273 (+/-0.056) for {'alpha': 0.46666666666666667, 'l1_ratio': 0.55555555555555558}\n",
      "0.273 (+/-0.056) for {'alpha': 0.46666666666666667, 'l1_ratio': 0.57777777777777772}\n",
      "0.273 (+/-0.056) for {'alpha': 0.46666666666666667, 'l1_ratio': 0.59999999999999998}\n",
      "0.273 (+/-0.057) for {'alpha': 0.48888888888888887, 'l1_ratio': 0.40000000000000002}\n",
      "0.273 (+/-0.057) for {'alpha': 0.48888888888888887, 'l1_ratio': 0.42222222222222222}\n",
      "0.273 (+/-0.057) for {'alpha': 0.48888888888888887, 'l1_ratio': 0.44444444444444448}\n",
      "0.273 (+/-0.057) for {'alpha': 0.48888888888888887, 'l1_ratio': 0.46666666666666667}\n",
      "0.273 (+/-0.057) for {'alpha': 0.48888888888888887, 'l1_ratio': 0.48888888888888887}\n",
      "0.273 (+/-0.057) for {'alpha': 0.48888888888888887, 'l1_ratio': 0.51111111111111107}\n",
      "0.273 (+/-0.056) for {'alpha': 0.48888888888888887, 'l1_ratio': 0.53333333333333333}\n",
      "0.273 (+/-0.056) for {'alpha': 0.48888888888888887, 'l1_ratio': 0.55555555555555558}\n",
      "0.273 (+/-0.056) for {'alpha': 0.48888888888888887, 'l1_ratio': 0.57777777777777772}\n",
      "0.273 (+/-0.056) for {'alpha': 0.48888888888888887, 'l1_ratio': 0.59999999999999998}\n",
      "0.273 (+/-0.057) for {'alpha': 0.51111111111111107, 'l1_ratio': 0.40000000000000002}\n",
      "0.273 (+/-0.057) for {'alpha': 0.51111111111111107, 'l1_ratio': 0.42222222222222222}\n",
      "0.273 (+/-0.057) for {'alpha': 0.51111111111111107, 'l1_ratio': 0.44444444444444448}\n",
      "0.273 (+/-0.057) for {'alpha': 0.51111111111111107, 'l1_ratio': 0.46666666666666667}\n",
      "0.273 (+/-0.056) for {'alpha': 0.51111111111111107, 'l1_ratio': 0.48888888888888887}\n",
      "0.273 (+/-0.056) for {'alpha': 0.51111111111111107, 'l1_ratio': 0.51111111111111107}\n",
      "0.273 (+/-0.056) for {'alpha': 0.51111111111111107, 'l1_ratio': 0.53333333333333333}\n",
      "0.273 (+/-0.056) for {'alpha': 0.51111111111111107, 'l1_ratio': 0.55555555555555558}\n",
      "0.273 (+/-0.056) for {'alpha': 0.51111111111111107, 'l1_ratio': 0.57777777777777772}\n",
      "0.273 (+/-0.056) for {'alpha': 0.51111111111111107, 'l1_ratio': 0.59999999999999998}\n",
      "0.273 (+/-0.057) for {'alpha': 0.53333333333333333, 'l1_ratio': 0.40000000000000002}\n",
      "0.273 (+/-0.057) for {'alpha': 0.53333333333333333, 'l1_ratio': 0.42222222222222222}\n",
      "0.273 (+/-0.057) for {'alpha': 0.53333333333333333, 'l1_ratio': 0.44444444444444448}\n",
      "0.273 (+/-0.056) for {'alpha': 0.53333333333333333, 'l1_ratio': 0.46666666666666667}\n",
      "0.273 (+/-0.056) for {'alpha': 0.53333333333333333, 'l1_ratio': 0.48888888888888887}\n",
      "0.273 (+/-0.056) for {'alpha': 0.53333333333333333, 'l1_ratio': 0.51111111111111107}\n",
      "0.273 (+/-0.056) for {'alpha': 0.53333333333333333, 'l1_ratio': 0.53333333333333333}\n",
      "0.273 (+/-0.056) for {'alpha': 0.53333333333333333, 'l1_ratio': 0.55555555555555558}\n",
      "0.273 (+/-0.056) for {'alpha': 0.53333333333333333, 'l1_ratio': 0.57777777777777772}\n",
      "0.273 (+/-0.056) for {'alpha': 0.53333333333333333, 'l1_ratio': 0.59999999999999998}\n",
      "0.273 (+/-0.057) for {'alpha': 0.55555555555555558, 'l1_ratio': 0.40000000000000002}\n",
      "0.273 (+/-0.057) for {'alpha': 0.55555555555555558, 'l1_ratio': 0.42222222222222222}\n",
      "0.273 (+/-0.056) for {'alpha': 0.55555555555555558, 'l1_ratio': 0.44444444444444448}\n",
      "0.273 (+/-0.056) for {'alpha': 0.55555555555555558, 'l1_ratio': 0.46666666666666667}\n",
      "0.273 (+/-0.056) for {'alpha': 0.55555555555555558, 'l1_ratio': 0.48888888888888887}\n",
      "0.273 (+/-0.056) for {'alpha': 0.55555555555555558, 'l1_ratio': 0.51111111111111107}\n",
      "0.273 (+/-0.056) for {'alpha': 0.55555555555555558, 'l1_ratio': 0.53333333333333333}\n",
      "0.273 (+/-0.056) for {'alpha': 0.55555555555555558, 'l1_ratio': 0.55555555555555558}\n",
      "0.273 (+/-0.056) for {'alpha': 0.55555555555555558, 'l1_ratio': 0.57777777777777772}\n",
      "0.273 (+/-0.056) for {'alpha': 0.55555555555555558, 'l1_ratio': 0.59999999999999998}\n",
      "0.273 (+/-0.057) for {'alpha': 0.57777777777777772, 'l1_ratio': 0.40000000000000002}\n",
      "0.273 (+/-0.056) for {'alpha': 0.57777777777777772, 'l1_ratio': 0.42222222222222222}\n",
      "0.273 (+/-0.056) for {'alpha': 0.57777777777777772, 'l1_ratio': 0.44444444444444448}\n",
      "0.273 (+/-0.056) for {'alpha': 0.57777777777777772, 'l1_ratio': 0.46666666666666667}\n",
      "0.273 (+/-0.056) for {'alpha': 0.57777777777777772, 'l1_ratio': 0.48888888888888887}\n",
      "0.273 (+/-0.056) for {'alpha': 0.57777777777777772, 'l1_ratio': 0.51111111111111107}\n",
      "0.273 (+/-0.056) for {'alpha': 0.57777777777777772, 'l1_ratio': 0.53333333333333333}\n",
      "0.273 (+/-0.056) for {'alpha': 0.57777777777777772, 'l1_ratio': 0.55555555555555558}\n",
      "0.273 (+/-0.056) for {'alpha': 0.57777777777777772, 'l1_ratio': 0.57777777777777772}\n",
      "0.273 (+/-0.056) for {'alpha': 0.57777777777777772, 'l1_ratio': 0.59999999999999998}\n",
      "0.273 (+/-0.056) for {'alpha': 0.59999999999999998, 'l1_ratio': 0.40000000000000002}\n",
      "0.273 (+/-0.056) for {'alpha': 0.59999999999999998, 'l1_ratio': 0.42222222222222222}\n",
      "0.273 (+/-0.056) for {'alpha': 0.59999999999999998, 'l1_ratio': 0.44444444444444448}\n",
      "0.273 (+/-0.056) for {'alpha': 0.59999999999999998, 'l1_ratio': 0.46666666666666667}\n",
      "0.273 (+/-0.056) for {'alpha': 0.59999999999999998, 'l1_ratio': 0.48888888888888887}\n",
      "0.273 (+/-0.056) for {'alpha': 0.59999999999999998, 'l1_ratio': 0.51111111111111107}\n",
      "0.273 (+/-0.056) for {'alpha': 0.59999999999999998, 'l1_ratio': 0.53333333333333333}\n",
      "0.273 (+/-0.056) for {'alpha': 0.59999999999999998, 'l1_ratio': 0.55555555555555558}\n",
      "0.273 (+/-0.055) for {'alpha': 0.59999999999999998, 'l1_ratio': 0.57777777777777772}\n",
      "0.273 (+/-0.055) for {'alpha': 0.59999999999999998, 'l1_ratio': 0.59999999999999998}\n",
      "()\n"
     ]
    }
   ],
   "source": [
    "print(enet2.best_params_, enet2.best_score_)\n",
    "print()\n",
    "print(\"Grid scores on development set:\")\n",
    "print()\n",
    "for params, mean_score, scores in enet2.grid_scores_:\n",
    "    print(\"%0.3f (+/-%0.03f) for %r\" % (mean_score, scores.std() * 2, params))\n",
    "print()"
   ]
  },
  {
   "cell_type": "code",
   "execution_count": 47,
   "metadata": {
    "collapsed": false
   },
   "outputs": [
    {
     "data": {
      "text/plain": [
       "<seaborn.axisgrid.JointGrid at 0xb5742d0>"
      ]
     },
     "execution_count": 47,
     "metadata": {},
     "output_type": "execute_result"
    },
    {
     "data": {
      "text/plain": [
       "<matplotlib.figure.Figure at 0x7f35228703d0>"
      ]
     },
     "metadata": {},
     "output_type": "display_data"
    },
    {
     "data": {
      "image/png": "[encoded data removed]",
      "text/plain": [
       "<matplotlib.figure.Figure at 0x7f352284b290>"
      ]
     },
     "metadata": {},
     "output_type": "display_data"
    }
   ],
   "source": [
    "enet_predictions = pd.Series(enet.predict(test_numdata),\n",
    "                             name='Elastic Net')\n",
    "p_df = pd.DataFrame({'Enet Prediction': enet_predictions,\n",
    "                     'Actual': test_target.values})\n",
    "\n",
    "pylab.figure(figsize=(10, 10))\n",
    "sns.jointplot('Actual', 'Enet Prediction', data=p_df, kind=\"hex\",\n",
    "              color=sns.color_palette()[2])"
   ]
  },
  {
   "cell_type": "code",
   "execution_count": 239,
   "metadata": {
    "collapsed": false
   },
   "outputs": [
    {
     "data": {
      "text/plain": [
       "<seaborn.axisgrid.JointGrid at 0x29ce10d0>"
      ]
     },
     "execution_count": 239,
     "metadata": {},
     "output_type": "execute_result"
    },
    {
     "data": {
      "text/plain": [
       "<matplotlib.figure.Figure at 0x29ddc310>"
      ]
     },
     "metadata": {},
     "output_type": "display_data"
    },
    {
     "data": {
      "image/png": "[encoded data removed]",
      "text/plain": [
       "<matplotlib.figure.Figure at 0x29df3990>"
      ]
     },
     "metadata": {},
     "output_type": "display_data"
    }
   ],
   "source": [
    "from sklearn.grid_search import GridSearchCV\n",
    "from sklearn.ensemble import RandomForestRegressor\n",
    "estimator = RandomForestRegressor()\n",
    "\n",
    "parameters = {'n_estimators': (5, 10, 15, 20, 25, 30, 35),\n",
    "              'max_depth': (3, 5, 7, 9, 11),\n",
    "             }\n",
    "rfr = GridSearchCV(estimator, parameters, n_jobs=3)\n",
    "rfr.fit(train_this, train_target)\n",
    "\n",
    "rfr_predictions = pd.Series(rfr.predict(test_this),\n",
    "                            name='Random Forest')\n",
    "\n",
    "p_df = pd.DataFrame({'RF Prediction': rfr_predictions,\n",
    "                     'Actual': test_target.values})\n",
    "\n",
    "pylab.figure(figsize=(10, 10))\n",
    "sns.jointplot('Actual', 'RF Prediction', data=p_df, kind=\"hex\",\n",
    "              color=sns.color_palette()[3])\n"
   ]
  },
  {
   "cell_type": "code",
   "execution_count": 240,
   "metadata": {
    "collapsed": false
   },
   "outputs": [
    {
     "data": {
      "text/html": [
       "<div style=\"max-height:1000px;max-width:1500px;overflow:auto;\">\n",
       "<table border=\"1\" class=\"dataframe\">\n",
       "  <thead>\n",
       "    <tr style=\"text-align: right;\">\n",
       "      <th></th>\n",
       "      <th>Explained Variance</th>\n",
       "      <th>MAE</th>\n",
       "      <th>MSE</th>\n",
       "      <th>MedAE</th>\n",
       "      <th>R2</th>\n",
       "    </tr>\n",
       "    <tr>\n",
       "      <th>name</th>\n",
       "      <th></th>\n",
       "      <th></th>\n",
       "      <th></th>\n",
       "      <th></th>\n",
       "      <th></th>\n",
       "    </tr>\n",
       "  </thead>\n",
       "  <tbody>\n",
       "    <tr>\n",
       "      <th>Mean Response</th>\n",
       "      <td>0.000000</td>\n",
       "      <td>5.916924</td>\n",
       "      <td>54.151808</td>\n",
       "      <td>5.627266</td>\n",
       "      <td>-0.000034</td>\n",
       "    </tr>\n",
       "    <tr>\n",
       "      <th>Median Response</th>\n",
       "      <td>0.000000</td>\n",
       "      <td>5.746785</td>\n",
       "      <td>57.647159</td>\n",
       "      <td>4.800000</td>\n",
       "      <td>-0.064583</td>\n",
       "    </tr>\n",
       "    <tr>\n",
       "      <th>Linear Regression</th>\n",
       "      <td>0.335165</td>\n",
       "      <td>4.444201</td>\n",
       "      <td>36.212719</td>\n",
       "      <td>3.399445</td>\n",
       "      <td>0.331251</td>\n",
       "    </tr>\n",
       "    <tr>\n",
       "      <th>Elastic Net</th>\n",
       "      <td>0.354220</td>\n",
       "      <td>4.635088</td>\n",
       "      <td>34.990091</td>\n",
       "      <td>4.025681</td>\n",
       "      <td>0.353830</td>\n",
       "    </tr>\n",
       "    <tr>\n",
       "      <th>Random Forest</th>\n",
       "      <td>0.323904</td>\n",
       "      <td>4.656359</td>\n",
       "      <td>36.613345</td>\n",
       "      <td>3.818018</td>\n",
       "      <td>0.323853</td>\n",
       "    </tr>\n",
       "  </tbody>\n",
       "</table>\n",
       "</div>"
      ],
      "text/plain": [
       "                   Explained Variance       MAE        MSE     MedAE        R2\n",
       "name                                                                          \n",
       "Mean Response                0.000000  5.916924  54.151808  5.627266 -0.000034\n",
       "Median Response              0.000000  5.746785  57.647159  4.800000 -0.064583\n",
       "Linear Regression            0.335165  4.444201  36.212719  3.399445  0.331251\n",
       "Elastic Net                  0.354220  4.635088  34.990091  4.025681  0.353830\n",
       "Random Forest                0.323904  4.656359  36.613345  3.818018  0.323853"
      ]
     },
     "execution_count": 240,
     "metadata": {},
     "output_type": "execute_result"
    }
   ],
   "source": [
    "metrics_report(mean_predictions,\n",
    "               median_predictions,\n",
    "               lr_predictions,\n",
    "               enet_predictions,\n",
    "               rfr_predictions)"
   ]
  },
  {
   "cell_type": "code",
   "execution_count": 241,
   "metadata": {
    "collapsed": false
   },
   "outputs": [
    {
     "data": {
      "text/plain": [
       "<seaborn.axisgrid.JointGrid at 0x29df3350>"
      ]
     },
     "execution_count": 241,
     "metadata": {},
     "output_type": "execute_result"
    },
    {
     "data": {
      "image/png": "[encoded data removed]",
      "text/plain": [
       "<matplotlib.figure.Figure at 0x29df32d0>"
      ]
     },
     "metadata": {},
     "output_type": "display_data"
    }
   ],
   "source": [
    "\n",
    "lr_diffs = lr_predictions - test_target\n",
    "lr_diffs.name = 'LinearRegression Error'\n",
    "rfr_diffs = rfr_predictions - test_target\n",
    "rfr_diffs.name = 'RandomForest Error'\n",
    "\n",
    "sns.jointplot(lr_predictions, rfr_predictions, kind='resid', color=sns.color_palette()[4])"
   ]
  },
  {
   "cell_type": "code",
   "execution_count": 242,
   "metadata": {
    "collapsed": false
   },
   "outputs": [
    {
     "data": {
      "text/plain": [
       "<seaborn.axisgrid.JointGrid at 0x20b0acd0>"
      ]
     },
     "execution_count": 242,
     "metadata": {},
     "output_type": "execute_result"
    },
    {
     "data": {
      "image/png": "[encoded data removed]",
      "text/plain": [
       "<matplotlib.figure.Figure at 0x236e9ed0>"
      ]
     },
     "metadata": {},
     "output_type": "display_data"
    }
   ],
   "source": [
    "\n",
    "from sklearn.linear_model import Lasso\n",
    "from sklearn.preprocessing import PolynomialFeatures\n",
    "from sklearn.pipeline import make_pipeline\n",
    "\n",
    "degree = 2\n",
    "\n",
    "model = make_pipeline(PolynomialFeatures(degree), Lasso())\n",
    "model.fit(train_numdata, train_target)\n",
    "\n",
    "poly_preds = pd.Series(model.predict(test_numdata),\n",
    "                       name='Polynomial Lasso',\n",
    "                       index=test_target.index)\n",
    "\n",
    "\n",
    "sns.jointplot(test_target, \n",
    "              poly_preds,\n",
    "              kind='resid',\n",
    "              color=sns.color_palette()[5])   "
   ]
  },
  {
   "cell_type": "code",
   "execution_count": 243,
   "metadata": {
    "collapsed": false
   },
   "outputs": [
    {
     "data": {
      "text/html": [
       "<div style=\"max-height:1000px;max-width:1500px;overflow:auto;\">\n",
       "<table border=\"1\" class=\"dataframe\">\n",
       "  <thead>\n",
       "    <tr style=\"text-align: right;\">\n",
       "      <th></th>\n",
       "      <th>Explained Variance</th>\n",
       "      <th>MAE</th>\n",
       "      <th>MSE</th>\n",
       "      <th>MedAE</th>\n",
       "      <th>R2</th>\n",
       "    </tr>\n",
       "    <tr>\n",
       "      <th>name</th>\n",
       "      <th></th>\n",
       "      <th></th>\n",
       "      <th></th>\n",
       "      <th></th>\n",
       "      <th></th>\n",
       "    </tr>\n",
       "  </thead>\n",
       "  <tbody>\n",
       "    <tr>\n",
       "      <th>Mean Response</th>\n",
       "      <td>0.000000</td>\n",
       "      <td>5.916924</td>\n",
       "      <td>54.151808</td>\n",
       "      <td>5.627266</td>\n",
       "      <td>-0.000034</td>\n",
       "    </tr>\n",
       "    <tr>\n",
       "      <th>Median Response</th>\n",
       "      <td>0.000000</td>\n",
       "      <td>5.746785</td>\n",
       "      <td>57.647159</td>\n",
       "      <td>4.800000</td>\n",
       "      <td>-0.064583</td>\n",
       "    </tr>\n",
       "    <tr>\n",
       "      <th>Linear Regression</th>\n",
       "      <td>0.335165</td>\n",
       "      <td>4.444201</td>\n",
       "      <td>36.212719</td>\n",
       "      <td>3.399445</td>\n",
       "      <td>0.331251</td>\n",
       "    </tr>\n",
       "    <tr>\n",
       "      <th>Elastic Net</th>\n",
       "      <td>0.354220</td>\n",
       "      <td>4.635088</td>\n",
       "      <td>34.990091</td>\n",
       "      <td>4.025681</td>\n",
       "      <td>0.353830</td>\n",
       "    </tr>\n",
       "    <tr>\n",
       "      <th>Random Forest</th>\n",
       "      <td>0.323904</td>\n",
       "      <td>4.656359</td>\n",
       "      <td>36.613345</td>\n",
       "      <td>3.818018</td>\n",
       "      <td>0.323853</td>\n",
       "    </tr>\n",
       "    <tr>\n",
       "      <th>Polynomial Lasso</th>\n",
       "      <td>0.275439</td>\n",
       "      <td>4.810340</td>\n",
       "      <td>39.327519</td>\n",
       "      <td>4.009546</td>\n",
       "      <td>0.273730</td>\n",
       "    </tr>\n",
       "  </tbody>\n",
       "</table>\n",
       "</div>"
      ],
      "text/plain": [
       "                   Explained Variance       MAE        MSE     MedAE        R2\n",
       "name                                                                          \n",
       "Mean Response                0.000000  5.916924  54.151808  5.627266 -0.000034\n",
       "Median Response              0.000000  5.746785  57.647159  4.800000 -0.064583\n",
       "Linear Regression            0.335165  4.444201  36.212719  3.399445  0.331251\n",
       "Elastic Net                  0.354220  4.635088  34.990091  4.025681  0.353830\n",
       "Random Forest                0.323904  4.656359  36.613345  3.818018  0.323853\n",
       "Polynomial Lasso             0.275439  4.810340  39.327519  4.009546  0.273730"
      ]
     },
     "execution_count": 243,
     "metadata": {},
     "output_type": "execute_result"
    }
   ],
   "source": [
    "metrics_report(mean_predictions,\n",
    "               median_predictions,\n",
    "               lr_predictions,\n",
    "               enet_predictions,\n",
    "               rfr_predictions,\n",
    "               poly_preds)"
   ]
  },
  {
   "cell_type": "code",
   "execution_count": null,
   "metadata": {
    "collapsed": true
   },
   "outputs": [],
   "source": []
  }
 ],
 "metadata": {
  "celltoolbar": "Slideshow",
  "kernelspec": {
   "display_name": "Python 2",
   "language": "python",
   "name": "python2"
  },
  "language_info": {
   "codemirror_mode": {
    "name": "ipython",
    "version": 2
   },
   "file_extension": ".py",
   "mimetype": "text/x-python",
   "name": "python",
   "nbconvert_exporter": "python",
   "pygments_lexer": "ipython2",
   "version": "2.7.3"
  }
 },
 "nbformat": 4,
 "nbformat_minor": 0
}
